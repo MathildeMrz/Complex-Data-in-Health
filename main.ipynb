{
 "cells": [
  {
   "cell_type": "code",
   "execution_count": 215,
   "outputs": [],
   "source": [
    "## Preprocessing"
   ],
   "metadata": {
    "collapsed": false,
    "ExecuteTime": {
     "end_time": "2023-11-30T10:24:22.704352400Z",
     "start_time": "2023-11-30T10:24:22.620348600Z"
    }
   },
   "id": "d9edb385de93cba8"
  },
  {
   "cell_type": "code",
   "execution_count": 216,
   "outputs": [
    {
     "name": "stdout",
     "output_type": "stream",
     "text": [
      "\n",
      "Beginning preprocessing:\n",
      "   geneId geneSymbol    DSI    DPI diseaseId               diseaseName  \\\n",
      "0       1       A1BG  0.700  0.538  C0019209              Hepatomegaly   \n",
      "1       1       A1BG  0.700  0.538  C0036341             Schizophrenia   \n",
      "2       2        A2M  0.529  0.769  C0002395       Alzheimer's Disease   \n",
      "3       2        A2M  0.529  0.769  C0007102  Malignant tumor of colon   \n",
      "4       2        A2M  0.529  0.769  C0009375         Colonic Neoplasms   \n",
      "\n",
      "  diseaseType diseaseClass               diseaseSemanticType  score     EI  \\\n",
      "0   phenotype      C23;C06                           Finding   0.30  1.000   \n",
      "1     disease          F03  Mental or Behavioral Dysfunction   0.30  1.000   \n",
      "2     disease      C10;F03               Disease or Syndrome   0.50  0.769   \n",
      "3     disease      C06;C04                Neoplastic Process   0.31  1.000   \n",
      "4       group      C06;C04                Neoplastic Process   0.30  1.000   \n",
      "\n",
      "   YearInitial  YearFinal  NofPmids  NofSnps     source  \n",
      "0       2017.0     2017.0         1        0  CTD_human  \n",
      "1       2015.0     2015.0         1        0  CTD_human  \n",
      "2       1998.0     2018.0         3        0  CTD_human  \n",
      "3       2004.0     2019.0         1        0  CTD_human  \n",
      "4       2004.0     2004.0         1        0  CTD_human  \n",
      "Diseases number:  84038\n",
      "------------------------------------------------\n",
      "   i       ID       Name                                        Description  \\\n",
      "0  1  DB00001  Lepirudin  Lepirudin is identical to natural hirudin exce...   \n",
      "1  2  DB00002  Cetuximab  Cetuximab is an epidermal growth factor recept...   \n",
      "2  2  DB00002  Cetuximab  Cetuximab is an epidermal growth factor recept...   \n",
      "3  2  DB00002  Cetuximab  Cetuximab is an epidermal growth factor recept...   \n",
      "4  2  DB00002  Cetuximab  Cetuximab is an epidermal growth factor recept...   \n",
      "\n",
      "  Started_commer Ended_commer    ATC   State  Approved  \\\n",
      "0     1997-03-13   2012-07-27  B01AE  liquid  approved   \n",
      "1     2004-06-29          NaN  L01XC  liquid  approved   \n",
      "2     2004-06-29          NaN  L01XC  liquid  approved   \n",
      "3     2004-06-29          NaN  L01XC  liquid  approved   \n",
      "4     2004-06-29          NaN  L01XC  liquid  approved   \n",
      "\n",
      "                                          Indication Gene_Target      DB_id  \\\n",
      "0  For the treatment of heparin-induced thrombocy...          F2  BE0000048   \n",
      "1  Cetuximab, used in combination with irinotecan...        EGFR  BE0002098   \n",
      "2  Cetuximab, used in combination with irinotecan...      FCGR3B  BE0002098   \n",
      "3  Cetuximab, used in combination with irinotecan...        C1QA  BE0002098   \n",
      "4  Cetuximab, used in combination with irinotecan...        C1QB  BE0002098   \n",
      "\n",
      "                                                name organism         Type  \\\n",
      "0                                        Prothrombin   Humans  Polypeptide   \n",
      "1  Low affinity immunoglobulin gamma Fc region re...   Humans  Polypeptide   \n",
      "2  Low affinity immunoglobulin gamma Fc region re...   Humans  Polypeptide   \n",
      "3  Low affinity immunoglobulin gamma Fc region re...   Humans  Polypeptide   \n",
      "4  Low affinity immunoglobulin gamma Fc region re...   Humans  Polypeptide   \n",
      "\n",
      "  known_action  \n",
      "0          yes  \n",
      "1      unknown  \n",
      "2      unknown  \n",
      "3      unknown  \n",
      "4      unknown  \n",
      "Drugs number:  26817\n",
      "\n",
      "End preprocessing:\n",
      "  geneSymbol    diseaseName  count_genes\n",
      "0       A1BG  schizophrenia          883\n",
      "1      ABCA1  schizophrenia          883\n",
      "2       ACHE  schizophrenia          883\n",
      "3       ACP1  schizophrenia          883\n",
      "4       ACTB  schizophrenia          883\n",
      "Diseases number:  44959\n",
      "27729       PARP1\n",
      "27730        DSG1\n",
      "27731         EGF\n",
      "27732        EGFR\n",
      "27733         FLG\n",
      "27734       HLA-B\n",
      "27735    HLA-DQA1\n",
      "27736         IL4\n",
      "27737        IL13\n",
      "27738       ITGB2\n",
      "27739     PLA2G4A\n",
      "27740      CXCL12\n",
      "27741       VCAM1\n",
      "27742       ZFP36\n",
      "27743        NOD2\n",
      "27744     SHARPIN\n",
      "Name: geneSymbol, dtype: object\n",
      "  Gene_Target       Name\n",
      "0          F2  Lepirudin\n",
      "1        EGFR  Cetuximab\n",
      "2      FCGR3B  Cetuximab\n",
      "3        C1QA  Cetuximab\n",
      "4        C1QB  Cetuximab\n",
      "Drugs number:  22751\n"
     ]
    }
   ],
   "source": [
    "import pandas as pd\n",
    "import networkx as nx\n",
    "import localization\n",
    "import separation\n",
    "import proximity\n",
    "import seaborn as sns\n",
    "import matplotlib.pylab as plt\n",
    "\n",
    "disease_gene_data = pd.read_csv('datasets/disease_gene.tsv', sep='\\t')\n",
    "drug_target_data = pd.read_csv('datasets/drug_target.csv')\n",
    "\n",
    "print(\"\\nBeginning preprocessing:\")\n",
    "print(disease_gene_data.head())\n",
    "print(\"Diseases number: \",len(disease_gene_data))\n",
    "print(\"------------------------------------------------\")\n",
    "print(drug_target_data.head())\n",
    "print(\"Drugs number: \",len(drug_target_data))\n",
    "\n",
    "# Filter disease_gene associations, so that we only focus on those disease types that are not “group” or “phenotype”,\n",
    "disease_gene_data = disease_gene_data[\n",
    "    (disease_gene_data['diseaseType'] != 'group') &\n",
    "    (disease_gene_data['diseaseType'] != 'phenotype')]\n",
    "\n",
    "# Lower disease names and use these names to identify diseases.\n",
    "disease_gene_data = disease_gene_data[disease_gene_data.diseaseType == 'disease'][['geneSymbol', 'diseaseName']].drop_duplicates()\n",
    "disease_gene_data['diseaseName'] = disease_gene_data['diseaseName'].str.lower()\n",
    "\n",
    "# Filter disease_gene associations, so that we only focus on those disease that have at least 10 associated genes.\n",
    "gene_count_per_disease = (disease_gene_data.groupby('diseaseName')\n",
    "                                             .agg('count')\n",
    "                                             .sort_values(by='geneSymbol')\n",
    "                                             .reset_index()\n",
    "                                             .rename(columns={'geneSymbol':'count_genes'}))\n",
    "\n",
    "disease_gene_data = disease_gene_data.merge(gene_count_per_disease, \n",
    "                         on='diseaseName', \n",
    "                         how='inner')\n",
    "\n",
    "disease_gene_data = disease_gene_data[(disease_gene_data['count_genes'] >= 10)]\n",
    "\n",
    "# Filter drug targets so that they are related to Humans.\n",
    "# Use drug names to identify drugs\n",
    "drug_target_data = drug_target_data[drug_target_data.organism=='Humans'][['Gene_Target','Name']].drop_duplicates()\n",
    "\n",
    "print(\"\\nEnd preprocessing:\")\n",
    "print(disease_gene_data.head())\n",
    "print(\"Diseases number: \",len(disease_gene_data))\n",
    "print(disease_gene_data[disease_gene_data['diseaseName'] == 'dermatitis']['geneSymbol'])\n",
    "print(drug_target_data.head())\n",
    "print(\"Drugs number: \",len(drug_target_data))"
   ],
   "metadata": {
    "collapsed": false,
    "ExecuteTime": {
     "end_time": "2023-11-30T10:24:23.608344100Z",
     "start_time": "2023-11-30T10:24:22.644943600Z"
    }
   },
   "id": "3da38a782c7ea8d8"
  },
  {
   "cell_type": "markdown",
   "source": [],
   "metadata": {
    "collapsed": false
   },
   "id": "5609daf5eaaec134"
  },
  {
   "cell_type": "markdown",
   "source": [
    "## Network medicine"
   ],
   "metadata": {
    "collapsed": false
   },
   "id": "c4872a670f831eb1"
  },
  {
   "cell_type": "code",
   "execution_count": 217,
   "outputs": [],
   "source": [
    "ppi = pd.read_csv('datasets/ppi.csv')\n",
    "\n",
    "# drop duplicates\n",
    "ppi = (ppi[['Symbol_A','Symbol_B']]\n",
    "       .drop_duplicates()\n",
    "       .dropna())\n",
    "\n",
    "gppi = nx.from_pandas_edgelist(ppi, 'Symbol_A', 'Symbol_B')\n",
    "\n",
    "# Removing self loops\n",
    "sl = nx.selfloop_edges(gppi)\n",
    "gppi.remove_edges_from(sl)"
   ],
   "metadata": {
    "collapsed": false,
    "ExecuteTime": {
     "end_time": "2023-11-30T10:24:25.629860800Z",
     "start_time": "2023-11-30T10:24:23.599243200Z"
    }
   },
   "id": "85c8b1013d2f779d"
  },
  {
   "cell_type": "code",
   "execution_count": 218,
   "outputs": [],
   "source": [
    "def get_disease_module_info(dis_name, gda, ppi):\n",
    "    \n",
    "    d = gda[gda.diseaseName == dis_name]\n",
    "    genes = list(d.geneSymbol.unique())\n",
    "    genes_in_ppi = [n for n in gppi.nodes if n in genes]\n",
    "    genes_in_lcc = localization.get_lcc(ppi, genes_in_ppi)\n",
    "    \n",
    "    print('Number of disease genes: ',len(genes))\n",
    "    print('Number of disease genes in the PPI: ',len(genes_in_ppi))\n",
    "    print('Number of disease genes in the LCC: ',len(genes_in_lcc))\n",
    "    \n",
    "    return genes, genes_in_ppi, genes_in_lcc"
   ],
   "metadata": {
    "collapsed": false,
    "ExecuteTime": {
     "end_time": "2023-11-30T10:24:25.646487200Z",
     "start_time": "2023-11-30T10:24:25.631866400Z"
    }
   },
   "id": "bc63671ee452210f"
  },
  {
   "cell_type": "code",
   "execution_count": 219,
   "outputs": [
    {
     "name": "stdout",
     "output_type": "stream",
     "text": [
      "Number of disease genes:  16\n",
      "Number of disease genes in the PPI:  16\n",
      "Number of disease genes in the LCC:  7\n"
     ]
    }
   ],
   "source": [
    "dermatitis = get_disease_module_info('dermatitis', disease_gene_data, gppi)"
   ],
   "metadata": {
    "collapsed": false,
    "ExecuteTime": {
     "end_time": "2023-11-30T10:24:25.680611700Z",
     "start_time": "2023-11-30T10:24:25.649486400Z"
    }
   },
   "id": "3226a9b6b34dcdbb"
  },
  {
   "cell_type": "markdown",
   "source": [
    "### Disease separation"
   ],
   "metadata": {
    "collapsed": false
   },
   "id": "dfc38edbd5706d62"
  },
  {
   "cell_type": "code",
   "execution_count": 220,
   "outputs": [
    {
     "name": "stdout",
     "output_type": "stream",
     "text": [
      "Number of disease genes:  57\n",
      "Number of disease genes in the PPI:  57\n",
      "Number of disease genes in the LCC:  30\n",
      "separation_dermatitis_psoriasis :  1.6216216216216217\n"
     ]
    }
   ],
   "source": [
    "# Work on the molecular overlap of the disease you are studying with other diseases. Chose two particular diseases: one that apparently might overlap with your disease and one that apparently might be very distant to your disease. Compute the separation in the interactome of the two disease modules. Connect this question to question 3.2. Discuss the possible implications of the separation between the two diseases. \n",
    "\n",
    "# Let's compare Dermatitis and Psoriasis\n",
    "\n",
    "psoriasis = get_disease_module_info('psoriasis', disease_gene_data, gppi)\n",
    "separation_dermatitis_psoriasis = separation.get_separation(gppi, psoriasis[2], dermatitis[2])\n",
    "print(\"separation_dermatitis_psoriasis : \",separation_dermatitis_psoriasis)"
   ],
   "metadata": {
    "collapsed": false,
    "ExecuteTime": {
     "end_time": "2023-11-30T10:24:25.787420Z",
     "start_time": "2023-11-30T10:24:25.707163600Z"
    }
   },
   "id": "7e16672afbebbae7"
  },
  {
   "cell_type": "code",
   "execution_count": 221,
   "outputs": [
    {
     "name": "stdout",
     "output_type": "stream",
     "text": [
      "Number of disease genes:  883\n",
      "Number of disease genes in the PPI:  846\n",
      "Number of disease genes in the LCC:  683\n",
      "separation_dermatitis_schizophrenia :  1.8753623188405797\n"
     ]
    }
   ],
   "source": [
    "# Let's now compare Dermatitis and Schizophrenia\n",
    "\n",
    "schizophrenia = get_disease_module_info('schizophrenia', disease_gene_data, gppi)\n",
    "separation_dermatitis_schizophrenia = separation.get_separation(gppi, schizophrenia[2], dermatitis[2])\n",
    "print(\"separation_dermatitis_schizophrenia : \",separation_dermatitis_schizophrenia)"
   ],
   "metadata": {
    "collapsed": false,
    "ExecuteTime": {
     "end_time": "2023-11-30T10:24:50.997666200Z",
     "start_time": "2023-11-30T10:24:25.816986700Z"
    }
   },
   "id": "384f14f861b9605f"
  },
  {
   "cell_type": "markdown",
   "source": [
    "### Disease - drug proximity"
   ],
   "metadata": {
    "collapsed": false
   },
   "id": "e8284074fe7aaef8"
  },
  {
   "cell_type": "code",
   "execution_count": 222,
   "outputs": [],
   "source": [
    "def plot_proximity(G, genes, targets, sim):\n",
    "    \n",
    "    prox_dict = proximity.get_proximity(G, genes, targets, sim)\n",
    "    \n",
    "    prox_obs = prox_dict['proximity']\n",
    "    random_prox = prox_dict['proximity_list']\n",
    "\n",
    "    print('Proximity observed: ',prox_obs)\n",
    "    print('\\nMean: ',prox_dict['mean'])\n",
    "    print('Std: ',prox_dict['std'])\n",
    "    print('z-score: ',prox_dict['z_score'])\n",
    "    print('p-value: ',prox_dict['p_value'])\n",
    "\n",
    "\n",
    "    fig, axs = plt.subplots()\n",
    "    sns.histplot(data=random_prox,\n",
    "                 bins=10)\n",
    "    plt.axvline(prox_obs, color='r')\n",
    "    plt.xlabel('Proximity value')\n",
    "    plt.ylabel('Count iterations')\n",
    "    plt.tight_layout()\n",
    "    plt.show()"
   ],
   "metadata": {
    "collapsed": false,
    "ExecuteTime": {
     "end_time": "2023-11-30T10:24:51.037828Z",
     "start_time": "2023-11-30T10:24:51.003153900Z"
    }
   },
   "id": "16af80bf802da008"
  },
  {
   "cell_type": "code",
   "execution_count": 223,
   "outputs": [
    {
     "name": "stdout",
     "output_type": "stream",
     "text": [
      "Selected drugs targeting genes involved in Atopic Dermatitis\n",
      "                                                    Name Gene_Target\n",
      "1                                              Cetuximab        EGFR\n",
      "2140                                        Theophylline       PARP1\n",
      "2190                                           Lidocaine        EGFR\n",
      "2462                                           Gefitinib        EGFR\n",
      "2835                                          Sucralfate         EGF\n",
      "4115                                           Erlotinib        EGFR\n",
      "6751                                             Ethanol       VCAM1\n",
      "8576                                          Carvedilol       VCAM1\n",
      "9567                                           Lapatinib        EGFR\n",
      "9629                                         Panitumumab        EGFR\n",
      "10634                                               Zinc       PARP1\n",
      "12291            Carba-nicotinamide-adenine-dinucleotide       PARP1\n",
      "12570                                             NU1025       PARP1\n",
      "12584                                       Nicotinamide       PARP1\n",
      "13138  2-{3-[4-(4-Fluorophenyl)-3,6-Dihydro-1(2h)-Pyr...       PARP1\n",
      "13139                                 3-Methoxybenzamide       PARP1\n",
      "13955                                          Alvocidib        EGFR\n",
      "13980        2-(4-Chlorophenyl)-5-Quinoxalinecarboxamide       PARP1\n",
      "14267                3,4-Dihydro-5-Methyl-Isoquinolinone       PARP1\n",
      "14749   2-(3'-Methoxyphenyl) Benzimidazole-4-Carboxamide       PARP1\n",
      "16545                                             IGN311        EGFR\n",
      "16655                                          Matuzumab        EGFR\n",
      "16872                                         Vandetanib        EGFR\n",
      "16924                                       Rindopepimut        EGFR\n",
      "16960                                       Succinobucol       VCAM1\n",
      "16982                                         Canertinib        EGFR\n",
      "17087                                          Pelitinib        EGFR\n",
      "17291                                         Varlitinib        EGFR\n",
      "17332                                             AV-412        EGFR\n",
      "18796            6-AMINO-BENZO[DE]ISOQUINOLINE-1,3-DIONE       PARP1\n",
      "18949                                          Veliparib       PARP1\n",
      "19054                                           A-620223       PARP1\n",
      "19393  S-{3-[(4-ANILINOQUINAZOLIN-6-YL)AMINO]-3-OXOPR...        EGFR\n",
      "19462                                          PD-168393        EGFR\n",
      "19648  5-FLUORO-1-[4-(4-PHENYL-3,6-DIHYDROPYRIDIN-1(2...       PARP1\n",
      "21178                                    Cholecystokinin         EGF\n",
      "21442                                           Afatinib        EGFR\n",
      "21758                                           Olaparib       PARP1\n",
      "22624                                        Osimertinib        EGFR\n",
      "22801                                        Necitumumab        EGFR\n",
      "22836                   Foreskin keratinocyte (neonatal)        EGFR\n",
      "23082                                          Clove oil       VCAM1\n",
      "23566                            Depatuxizumab mafodotin        EGFR\n",
      "23575                                           Icotinib        EGFR\n",
      "23643                                        Talazoparib       PARP1\n",
      "23675                                          Niraparib       PARP1\n",
      "23716                                          Neratinib        EGFR\n",
      "23827                                        Dacomitinib        EGFR\n",
      "23844                                        Tesevatinib         EGF\n",
      "24015                                       Fostamatinib        EGFR\n",
      "24325                                        Zalutumumab        EGFR\n",
      "24349                                         Brigatinib        EGFR\n",
      "24398                                          Rucaparib       PARP1\n",
      "24818                                          Olmutinib        EGFR\n",
      "24930                                        Mifamurtide        NOD2\n",
      "25054                                           Iniparib       PARP1\n",
      "25942                                       Zinc acetate       PARP1\n",
      "26175                                      Zinc chloride       PARP1\n",
      "26412                     Zinc sulfate, unspecified form       PARP1\n",
      "26681                                       Zanubrutinib        EGFR\n",
      "---------------------------------------------------------------------------------\n",
      "5 first drugs targeting genes involved in Atopic Dermatitis               Name Gene_Target\n",
      "1        Cetuximab        EGFR\n",
      "2140  Theophylline       PARP1\n",
      "2190     Lidocaine        EGFR\n",
      "2462     Gefitinib        EGFR\n",
      "2835    Sucralfate         EGF\n"
     ]
    }
   ],
   "source": [
    "selected_drugs = drug_target_data[drug_target_data.Gene_Target.isin(dermatitis[2])][['Name', 'Gene_Target']].drop_duplicates()\n",
    "print(\"Selected drugs targeting genes involved in Atopic Dermatitis\")\n",
    "print(selected_drugs)\n",
    "drug_target_data = selected_drugs.head(5)\n",
    "print(\"---------------------------------------------------------------------------------\")\n",
    "print(\"5 first drugs targeting genes involved in Atopic Dermatitis\", drug_target_data)"
   ],
   "metadata": {
    "collapsed": false,
    "ExecuteTime": {
     "end_time": "2023-11-30T10:24:51.056870900Z",
     "start_time": "2023-11-30T10:24:51.019771100Z"
    }
   },
   "id": "4dbb812d104424c8"
  },
  {
   "cell_type": "code",
   "execution_count": 224,
   "outputs": [
    {
     "name": "stdout",
     "output_type": "stream",
     "text": [
      "Cetuximab - Targets: ['EGFR']\n",
      "Proximity observed:  1.2857142857142858\n",
      "\n",
      "Mean:  1.616714285714286\n",
      "Std:  0.11289429768141342\n",
      "z-score:  -2.9319461372095064\n",
      "p-value:  0.0033684516269989473\n"
     ]
    },
    {
     "data": {
      "text/plain": "<Figure size 640x480 with 1 Axes>",
      "image/png": "[encoded data removed]"
     },
     "metadata": {},
     "output_type": "display_data"
    },
    {
     "name": "stdout",
     "output_type": "stream",
     "text": [
      "Theophylline - Targets: ['PARP1']\n",
      "Proximity observed:  1.4285714285714286\n",
      "\n",
      "Mean:  1.6248571428571432\n",
      "Std:  0.17438662184224746\n",
      "z-score:  -1.1255778236433607\n",
      "p-value:  0.2603442591832694\n"
     ]
    },
    {
     "data": {
      "text/plain": "<Figure size 640x480 with 1 Axes>",
      "image/png": "[encoded data removed]"
     },
     "metadata": {},
     "output_type": "display_data"
    },
    {
     "name": "stdout",
     "output_type": "stream",
     "text": [
      "Lidocaine - Targets: ['EGFR']\n",
      "Proximity observed:  1.2857142857142858\n",
      "\n",
      "Mean:  1.6155714285714287\n",
      "Std:  0.1124421846904407\n",
      "z-score:  -2.9335710949165303\n",
      "p-value:  0.0033508690230446003\n"
     ]
    },
    {
     "data": {
      "text/plain": "<Figure size 640x480 with 1 Axes>",
      "image/png": "[encoded data removed]"
     },
     "metadata": {},
     "output_type": "display_data"
    },
    {
     "name": "stdout",
     "output_type": "stream",
     "text": [
      "Gefitinib - Targets: ['EGFR']\n",
      "Proximity observed:  1.2857142857142858\n",
      "\n",
      "Mean:  1.6220000000000003\n",
      "Std:  0.11053524694108446\n",
      "z-score:  -3.0423391957947636\n",
      "p-value:  0.002347472046860588\n"
     ]
    },
    {
     "data": {
      "text/plain": "<Figure size 640x480 with 1 Axes>",
      "image/png": "[encoded data removed]"
     },
     "metadata": {},
     "output_type": "display_data"
    },
    {
     "name": "stdout",
     "output_type": "stream",
     "text": [
      "Sucralfate - Targets: ['EGF']\n",
      "Proximity observed:  1.7142857142857142\n",
      "\n",
      "Mean:  2.2184285714285705\n",
      "Std:  0.1569582682090487\n",
      "z-score:  -3.21195476285073\n",
      "p-value:  0.0013183513261643132\n"
     ]
    },
    {
     "data": {
      "text/plain": "<Figure size 640x480 with 1 Axes>",
      "image/png": "[encoded data removed]"
     },
     "metadata": {},
     "output_type": "display_data"
    }
   ],
   "source": [
    "for drug_name in drug_target_data['Name']:\n",
    "    le_t = drug_target_data[drug_target_data['Name'] == drug_name]['Gene_Target'].unique()\n",
    "\n",
    "    print(f\"{drug_name} - Targets: {le_t}\")\n",
    "    plot_proximity(gppi, \n",
    "               set(dermatitis[2]),\n",
    "               set(le_t), \n",
    "               1000)"
   ],
   "metadata": {
    "collapsed": false,
    "ExecuteTime": {
     "end_time": "2023-11-30T10:24:54.711285500Z",
     "start_time": "2023-11-30T10:24:51.050365200Z"
    }
   },
   "id": "307e89051851f17f"
  }
 ],
 "metadata": {
  "kernelspec": {
   "display_name": "Python 3",
   "language": "python",
   "name": "python3"
  },
  "language_info": {
   "codemirror_mode": {
    "name": "ipython",
    "version": 2
   },
   "file_extension": ".py",
   "mimetype": "text/x-python",
   "name": "python",
   "nbconvert_exporter": "python",
   "pygments_lexer": "ipython2",
   "version": "2.7.6"
  }
 },
 "nbformat": 4,
 "nbformat_minor": 5
}
