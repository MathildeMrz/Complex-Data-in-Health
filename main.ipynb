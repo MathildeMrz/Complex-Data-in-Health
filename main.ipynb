{
 "cells": [
  {
   "cell_type": "markdown",
   "source": [
    "## Preprocessing"
   ],
   "metadata": {
    "collapsed": false
   },
   "id": "c27c58dfa3c5e513"
  },
  {
   "cell_type": "markdown",
   "source": [
    "### 1. Lower disease names and use these names to identify diseases."
   ],
   "metadata": {
    "collapsed": false
   },
   "id": "1ea13054b0d6f364"
  },
  {
   "cell_type": "code",
   "execution_count": 2,
   "outputs": [
    {
     "name": "stdout",
     "output_type": "stream",
     "text": [
      "Before Lowercasing:\n",
      "0                Hepatomegaly\n",
      "1               Schizophrenia\n",
      "2         Alzheimer's Disease\n",
      "3    Malignant tumor of colon\n",
      "4           Colonic Neoplasms\n",
      "Name: diseaseName, dtype: object\n",
      "\n",
      "After Lowercasing:\n",
      "0                hepatomegaly\n",
      "1               schizophrenia\n",
      "2         alzheimer's disease\n",
      "3    malignant tumor of colon\n",
      "4           colonic neoplasms\n",
      "Name: diseaseName, dtype: object\n"
     ]
    }
   ],
   "source": [
    "import pandas as pd\n",
    "\n",
    "# Read the disease_gene.tsv file\n",
    "disease_gene_data = pd.read_csv('datasets/disease_gene.tsv', sep='\\t')\n",
    "print(\"Before Lowercasing:\")\n",
    "print(disease_gene_data['diseaseName'].head())\n",
    "\n",
    "# Delete duplicate\n",
    "#disease_gene_data = disease_gene_data[disease_gene_data.diseaseType == 'disease'][['geneSymbol', 'diseaseName']].drop_duplicates()\n",
    "# TODO : idk if this is required but it is in the teacher code, but not in the exercise\n",
    "\n",
    "# Lowercase disease names\n",
    "disease_gene_data['diseaseName'] = disease_gene_data['diseaseName'].str.lower()\n",
    "\n",
    "print(\"\\nAfter Lowercasing:\")\n",
    "print(disease_gene_data['diseaseName'].head())"
   ],
   "metadata": {
    "collapsed": false,
    "ExecuteTime": {
     "end_time": "2023-11-27T10:36:31.431294500Z",
     "start_time": "2023-11-27T10:36:31.147908600Z"
    }
   },
   "id": "b140a7553351e0f9"
  },
  {
   "cell_type": "markdown",
   "source": [
    "### 2. Filter disease_gene associations, so that we only focus on those disease types that are not “group” or “phenotype”, and that we just keep those diseases that have at least 10 associated genes."
   ],
   "metadata": {
    "collapsed": false
   },
   "id": "5609daf5eaaec134"
  },
  {
   "cell_type": "code",
   "execution_count": 3,
   "outputs": [
    {
     "name": "stdout",
     "output_type": "stream",
     "text": [
      "1365\n",
      "9816\n",
      "\n",
      "Before Filtering:\n",
      "84038\n",
      "\n",
      "After Filtering:\n",
      "44959\n"
     ]
    }
   ],
   "source": [
    "gene_count_per_disease = disease_gene_data.groupby('diseaseId')['geneId'].nunique()\n",
    "diseases_to_delete = gene_count_per_disease[gene_count_per_disease >= 10].index\n",
    "print(len(gene_count_per_disease[gene_count_per_disease >= 10]))\n",
    "print(len(gene_count_per_disease[gene_count_per_disease < 10]))\n",
    "print(\"\\nBefore Filtering:\")\n",
    "print(len(disease_gene_data))\n",
    "\n",
    "# Filter out disease types that are \"group\" or \"phenotype\"\n",
    "disease_gene_data = disease_gene_data[\n",
    "    (disease_gene_data['diseaseType'] != 'group') &\n",
    "    (disease_gene_data['diseaseType'] != 'phenotype') &\n",
    "    (disease_gene_data['diseaseId'].isin(diseases_to_delete))\n",
    "]\n",
    "\n",
    "print(\"\\nAfter Filtering:\")\n",
    "print(len(disease_gene_data))"
   ],
   "metadata": {
    "collapsed": false,
    "ExecuteTime": {
     "end_time": "2023-11-27T10:36:31.509824300Z",
     "start_time": "2023-11-27T10:36:31.431294500Z"
    }
   },
   "id": "6701455d22766fc1"
  },
  {
   "cell_type": "markdown",
   "source": [
    "### 3. Filter drug targets so that they are related to Humans. "
   ],
   "metadata": {
    "collapsed": false
   },
   "id": "1116bf1d244590c1"
  },
  {
   "cell_type": "code",
   "execution_count": 4,
   "outputs": [],
   "source": [
    "# Read the drug_target.csv file\n",
    "drug_target_data = pd.read_csv('datasets/drug_target.csv')\n",
    "\n",
    "filtered_drug_targets = drug_target_data[drug_target_data['organism'] == 'Human']"
   ],
   "metadata": {
    "collapsed": false,
    "ExecuteTime": {
     "end_time": "2023-11-27T10:36:31.881537700Z",
     "start_time": "2023-11-27T10:36:31.509824300Z"
    }
   },
   "id": "cfa4127bd21d1803"
  },
  {
   "cell_type": "markdown",
   "source": [
    "### 4. Use drug names to identify drugs"
   ],
   "metadata": {
    "collapsed": false
   },
   "id": "d19b9a7f696d510e"
  },
  {
   "cell_type": "code",
   "execution_count": 5,
   "outputs": [],
   "source": [
    "# Read the PPI.csv file\n",
    "ppi_data = pd.read_csv('datasets/PPI.csv')\n",
    "\n",
    "# ?? Don't know what to do"
   ],
   "metadata": {
    "collapsed": false,
    "ExecuteTime": {
     "end_time": "2023-11-27T10:36:32.076489Z",
     "start_time": "2023-11-27T10:36:31.881537700Z"
    }
   },
   "id": "131aea583e06de64"
  },
  {
   "cell_type": "markdown",
   "source": [
    "## Network medicine"
   ],
   "metadata": {
    "collapsed": false
   },
   "id": "c4872a670f831eb1"
  }
 ],
 "metadata": {
  "kernelspec": {
   "display_name": "Python 3",
   "language": "python",
   "name": "python3"
  },
  "language_info": {
   "codemirror_mode": {
    "name": "ipython",
    "version": 2
   },
   "file_extension": ".py",
   "mimetype": "text/x-python",
   "name": "python",
   "nbconvert_exporter": "python",
   "pygments_lexer": "ipython2",
   "version": "2.7.6"
  }
 },
 "nbformat": 4,
 "nbformat_minor": 5
}
