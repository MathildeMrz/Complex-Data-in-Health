{
 "cells": [
  {
   "cell_type": "markdown",
   "source": [
    "## Preprocessing"
   ],
   "metadata": {
    "collapsed": false
   },
   "id": "c27c58dfa3c5e513"
  },
  {
   "cell_type": "markdown",
   "source": [
    "### 1. Lower disease names and use these names to identify diseases."
   ],
   "metadata": {
    "collapsed": false
   },
   "id": "1ea13054b0d6f364"
  },
  {
   "cell_type": "code",
   "execution_count": 11,
   "outputs": [
    {
     "name": "stdout",
     "output_type": "stream",
     "text": [
      "Before Lowercasing:\n",
      "0                Hepatomegaly\n",
      "1               Schizophrenia\n",
      "2         Alzheimer's Disease\n",
      "3    Malignant tumor of colon\n",
      "4           Colonic Neoplasms\n",
      "Name: diseaseName, dtype: object\n",
      "\n",
      "After Lowercasing:\n",
      "0                hepatomegaly\n",
      "1               schizophrenia\n",
      "2         alzheimer's disease\n",
      "3    malignant tumor of colon\n",
      "4           colonic neoplasms\n",
      "Name: diseaseName, dtype: object\n"
     ]
    }
   ],
   "source": [
    "import pandas as pd\n",
    "import networkx as nx\n",
    "import localization\n",
    "\n",
    "# Read the disease_gene.tsv file\n",
    "disease_gene_data = pd.read_csv('datasets/disease_gene.tsv', sep='\\t')\n",
    "print(\"Before Lowercasing:\")\n",
    "print(disease_gene_data['diseaseName'].head())\n",
    "\n",
    "# Delete duplicate\n",
    "#disease_gene_data = disease_gene_data[disease_gene_data.diseaseType == 'disease'][['geneSymbol', 'diseaseName']].drop_duplicates()\n",
    "# TODO : idk if this is required but it is in the teacher code, but not in the exercise\n",
    "\n",
    "# Lowercase disease names\n",
    "disease_gene_data['diseaseName'] = disease_gene_data['diseaseName'].str.lower()\n",
    "\n",
    "print(\"\\nAfter Lowercasing:\")\n",
    "print(disease_gene_data['diseaseName'].head())"
   ],
   "metadata": {
    "collapsed": false,
    "ExecuteTime": {
     "end_time": "2023-11-28T13:50:11.852201400Z",
     "start_time": "2023-11-28T13:50:11.592358500Z"
    }
   },
   "id": "b140a7553351e0f9"
  },
  {
   "cell_type": "markdown",
   "source": [
    "### 2. Filter disease_gene associations, so that we only focus on those disease types that are not “group” or “phenotype”, and that we just keep those diseases that have at least 10 associated genes."
   ],
   "metadata": {
    "collapsed": false
   },
   "id": "5609daf5eaaec134"
  },
  {
   "cell_type": "code",
   "execution_count": 10,
   "outputs": [
    {
     "name": "stdout",
     "output_type": "stream",
     "text": [
      "Diseases with more than 10 genes:  972\n",
      "Diseases with less than 10 genes:  0\n",
      "\n",
      "Before Filtering:\n",
      "Diseases number 44959\n",
      "\n",
      "After Filtering:\n",
      "Diseases number 44959\n"
     ]
    }
   ],
   "source": [
    "gene_count_per_disease = disease_gene_data.groupby('diseaseId')['geneId'].nunique()\n",
    "diseases_to_delete = gene_count_per_disease[gene_count_per_disease >= 10].index\n",
    "print(\"Diseases with more than 10 genes: \",len(gene_count_per_disease[gene_count_per_disease >= 10]))\n",
    "print(\"Diseases with less than 10 genes: \",len(gene_count_per_disease[gene_count_per_disease < 10]))\n",
    "print(\"\\nBefore Filtering:\")\n",
    "print(\"Diseases number: \",len(disease_gene_data))\n",
    "\n",
    "# Filter out disease types that are \"group\" or \"phenotype\"\n",
    "disease_gene_data = disease_gene_data[\n",
    "    (disease_gene_data['diseaseType'] != 'group') &\n",
    "    (disease_gene_data['diseaseType'] != 'phenotype') &\n",
    "    (disease_gene_data['diseaseId'].isin(diseases_to_delete))\n",
    "]\n",
    "\n",
    "print(\"\\nAfter Filtering:\")\n",
    "print(\"Diseases number: \",len(disease_gene_data))"
   ],
   "metadata": {
    "collapsed": false,
    "ExecuteTime": {
     "end_time": "2023-11-28T13:49:10.060721Z",
     "start_time": "2023-11-28T13:49:10.013846600Z"
    }
   },
   "id": "6701455d22766fc1"
  },
  {
   "cell_type": "markdown",
   "source": [
    "### 3. Filter drug targets so that they are related to Humans. "
   ],
   "metadata": {
    "collapsed": false
   },
   "id": "1116bf1d244590c1"
  },
  {
   "cell_type": "code",
   "execution_count": 3,
   "outputs": [],
   "source": [
    "# Read the drug_target.csv file\n",
    "drug_target_data = pd.read_csv('datasets/drug_target.csv')\n",
    "\n",
    "filtered_drug_targets = drug_target_data[drug_target_data['organism'] == 'Human']"
   ],
   "metadata": {
    "collapsed": false,
    "ExecuteTime": {
     "end_time": "2023-11-28T13:48:24.138565500Z",
     "start_time": "2023-11-28T13:48:23.757998700Z"
    }
   },
   "id": "cfa4127bd21d1803"
  },
  {
   "cell_type": "markdown",
   "source": [
    "### 4. Use drug names to identify drugs"
   ],
   "metadata": {
    "collapsed": false
   },
   "id": "d19b9a7f696d510e"
  },
  {
   "cell_type": "code",
   "execution_count": 4,
   "outputs": [],
   "source": [
    "# Read the PPI.csv file\n",
    "ppi_data = pd.read_csv('datasets/PPI.csv')\n",
    "\n",
    "# ?? Don't know what to do"
   ],
   "metadata": {
    "collapsed": false,
    "ExecuteTime": {
     "end_time": "2023-11-28T13:48:24.341530300Z",
     "start_time": "2023-11-28T13:48:24.138565500Z"
    }
   },
   "id": "131aea583e06de64"
  },
  {
   "cell_type": "markdown",
   "source": [
    "## Network medicine"
   ],
   "metadata": {
    "collapsed": false
   },
   "id": "c4872a670f831eb1"
  },
  {
   "cell_type": "code",
   "execution_count": 5,
   "outputs": [],
   "source": [
    "ppi = pd.read_csv('datasets/ppi.csv')\n",
    "\n",
    "ppi = (ppi[['Symbol_A','Symbol_B']]\n",
    "       .drop_duplicates()\n",
    "       .dropna())\n",
    "\n",
    "gppi = nx.from_pandas_edgelist(ppi, 'Symbol_A', 'Symbol_B')\n",
    "\n",
    "# Removing self loops\n",
    "sl = nx.selfloop_edges(gppi)\n",
    "gppi.remove_edges_from(sl)"
   ],
   "metadata": {
    "collapsed": false,
    "ExecuteTime": {
     "end_time": "2023-11-28T13:48:25.871311500Z",
     "start_time": "2023-11-28T13:48:24.341530300Z"
    }
   },
   "id": "85c8b1013d2f779d"
  },
  {
   "cell_type": "code",
   "execution_count": 6,
   "outputs": [],
   "source": [
    "def get_disease_module_info(dis_name, gda, ppi):\n",
    "    \n",
    "    d = gda[gda.diseaseName == dis_name]\n",
    "    genes = list(d.geneSymbol.unique())\n",
    "    genes_in_ppi = [n for n in gppi.nodes if n in genes]\n",
    "    genes_in_lcc = localization.get_lcc(ppi, genes_in_ppi)\n",
    "    \n",
    "    print('Number of disease genes: ',len(genes))\n",
    "    print('Number of disease genes in the PPI: ',len(genes_in_ppi))\n",
    "    print('Number of disease genes in the LCC: ',len(genes_in_lcc))\n",
    "    \n",
    "    return genes, genes_in_ppi, genes_in_lcc"
   ],
   "metadata": {
    "collapsed": false,
    "ExecuteTime": {
     "end_time": "2023-11-28T13:48:28.995083900Z",
     "start_time": "2023-11-28T13:48:25.871311500Z"
    }
   },
   "id": "bc63671ee452210f"
  },
  {
   "cell_type": "code",
   "execution_count": 7,
   "outputs": [
    {
     "name": "stdout",
     "output_type": "stream",
     "text": [
      "Number of disease genes:  16\n",
      "Number of disease genes in the PPI:  16\n",
      "Number of disease genes in the LCC:  7\n"
     ]
    }
   ],
   "source": [
    "dermatisis = get_disease_module_info('dermatitis', disease_gene_data, gppi)"
   ],
   "metadata": {
    "collapsed": false,
    "ExecuteTime": {
     "end_time": "2023-11-28T13:48:29.073211Z",
     "start_time": "2023-11-28T13:48:28.995083900Z"
    }
   },
   "id": "3226a9b6b34dcdbb"
  },
  {
   "cell_type": "markdown",
   "source": [
    "### Disease separation\n",
    "Let's compare Dermatitis and Psoriasis"
   ],
   "metadata": {
    "collapsed": false
   },
   "id": "dfc38edbd5706d62"
  },
  {
   "cell_type": "code",
   "execution_count": 8,
   "outputs": [
    {
     "name": "stdout",
     "output_type": "stream",
     "text": [
      "Number of disease genes:  57\n",
      "Number of disease genes in the PPI:  57\n",
      "Number of disease genes in the LCC:  30\n",
      "separation_dermatitis_psoriasis :  1.6216216216216217\n"
     ]
    }
   ],
   "source": [
    "import separation\n",
    "\n",
    "psoriasis = get_disease_module_info('psoriasis', disease_gene_data, gppi)\n",
    "separation_dermatitis_psoriasis = separation.get_separation(gppi, psoriasis[2], dermatisis[2])\n",
    "print(\"separation_dermatitis_psoriasis : \",separation_dermatitis_psoriasis)"
   ],
   "metadata": {
    "collapsed": false,
    "ExecuteTime": {
     "end_time": "2023-11-28T13:48:29.151336200Z",
     "start_time": "2023-11-28T13:48:29.026332500Z"
    }
   },
   "id": "7e16672afbebbae7"
  },
  {
   "cell_type": "markdown",
   "source": [
    "Let's compare Dermatitis and Skizophrenia"
   ],
   "metadata": {
    "collapsed": false
   },
   "id": "888ef88a4ef86312"
  },
  {
   "cell_type": "code",
   "execution_count": 9,
   "outputs": [
    {
     "name": "stdout",
     "output_type": "stream",
     "text": [
      "Number of disease genes:  883\n",
      "Number of disease genes in the PPI:  846\n",
      "Number of disease genes in the LCC:  683\n",
      "separation_dermatitis_schizophrenia :  1.8753623188405797\n"
     ]
    }
   ],
   "source": [
    "schizophrenia = get_disease_module_info('schizophrenia', disease_gene_data, gppi)\n",
    "separation_dermatitis_schizophrenia = separation.get_separation(gppi, schizophrenia[2], dermatisis[2])\n",
    "print(\"separation_dermatitis_schizophrenia : \",separation_dermatitis_schizophrenia)"
   ],
   "metadata": {
    "collapsed": false,
    "ExecuteTime": {
     "end_time": "2023-11-28T13:48:54.179586300Z",
     "start_time": "2023-11-28T13:48:29.151336200Z"
    }
   },
   "id": "384f14f861b9605f"
  }
 ],
 "metadata": {
  "kernelspec": {
   "display_name": "Python 3",
   "language": "python",
   "name": "python3"
  },
  "language_info": {
   "codemirror_mode": {
    "name": "ipython",
    "version": 2
   },
   "file_extension": ".py",
   "mimetype": "text/x-python",
   "name": "python",
   "nbconvert_exporter": "python",
   "pygments_lexer": "ipython2",
   "version": "2.7.6"
  }
 },
 "nbformat": 4,
 "nbformat_minor": 5
}
