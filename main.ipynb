{
 "cells": [
  {
   "cell_type": "markdown",
   "source": [
    "## Preprocessing"
   ],
   "metadata": {
    "collapsed": false
   },
   "id": "c27c58dfa3c5e513"
  },
  {
   "cell_type": "code",
   "execution_count": 23,
   "outputs": [
    {
     "name": "stdout",
     "output_type": "stream",
     "text": [
      "\n",
      "Beginning preprocessing:\n",
      "   geneId geneSymbol    DSI    DPI diseaseId               diseaseName  \\\n",
      "0       1       A1BG  0.700  0.538  C0019209              Hepatomegaly   \n",
      "1       1       A1BG  0.700  0.538  C0036341             Schizophrenia   \n",
      "2       2        A2M  0.529  0.769  C0002395       Alzheimer's Disease   \n",
      "3       2        A2M  0.529  0.769  C0007102  Malignant tumor of colon   \n",
      "4       2        A2M  0.529  0.769  C0009375         Colonic Neoplasms   \n",
      "\n",
      "  diseaseType diseaseClass               diseaseSemanticType  score     EI  \\\n",
      "0   phenotype      C23;C06                           Finding   0.30  1.000   \n",
      "1     disease          F03  Mental or Behavioral Dysfunction   0.30  1.000   \n",
      "2     disease      C10;F03               Disease or Syndrome   0.50  0.769   \n",
      "3     disease      C06;C04                Neoplastic Process   0.31  1.000   \n",
      "4       group      C06;C04                Neoplastic Process   0.30  1.000   \n",
      "\n",
      "   YearInitial  YearFinal  NofPmids  NofSnps     source  \n",
      "0       2017.0     2017.0         1        0  CTD_human  \n",
      "1       2015.0     2015.0         1        0  CTD_human  \n",
      "2       1998.0     2018.0         3        0  CTD_human  \n",
      "3       2004.0     2019.0         1        0  CTD_human  \n",
      "4       2004.0     2004.0         1        0  CTD_human  \n",
      "Diseases number:  84038\n",
      "aaaaa :  60478\n",
      "bbbbb :  60478\n"
     ]
    },
    {
     "ename": "KeyError",
     "evalue": "'diseaseId'",
     "output_type": "error",
     "traceback": [
      "\u001B[1;31m---------------------------------------------------------------------------\u001B[0m",
      "\u001B[1;31mKeyError\u001B[0m                                  Traceback (most recent call last)",
      "Cell \u001B[1;32mIn[23], line 20\u001B[0m\n\u001B[0;32m     17\u001B[0m \u001B[38;5;28mprint\u001B[39m(\u001B[38;5;124m\"\u001B[39m\u001B[38;5;124mbbbbb : \u001B[39m\u001B[38;5;124m\"\u001B[39m,\u001B[38;5;28mlen\u001B[39m(disease_gene_data))\n\u001B[0;32m     19\u001B[0m \u001B[38;5;66;03m# Filter disease_gene associations, so that we only focus on those disease types that are not “group” or “phenotype”, and that we just keep those diseases that have at least 10 associated genes.\u001B[39;00m\n\u001B[1;32m---> 20\u001B[0m gene_count_per_disease \u001B[38;5;241m=\u001B[39m \u001B[43mdisease_gene_data\u001B[49m\u001B[38;5;241;43m.\u001B[39;49m\u001B[43mgroupby\u001B[49m\u001B[43m(\u001B[49m\u001B[38;5;124;43m'\u001B[39;49m\u001B[38;5;124;43mdiseaseId\u001B[39;49m\u001B[38;5;124;43m'\u001B[39;49m\u001B[43m)\u001B[49m[\u001B[38;5;124m'\u001B[39m\u001B[38;5;124mgeneId\u001B[39m\u001B[38;5;124m'\u001B[39m]\u001B[38;5;241m.\u001B[39mnunique()\n\u001B[0;32m     21\u001B[0m diseases_to_delete \u001B[38;5;241m=\u001B[39m gene_count_per_disease[gene_count_per_disease \u001B[38;5;241m>\u001B[39m\u001B[38;5;241m=\u001B[39m \u001B[38;5;241m10\u001B[39m]\u001B[38;5;241m.\u001B[39mindex\n\u001B[0;32m     22\u001B[0m disease_gene_data \u001B[38;5;241m=\u001B[39m disease_gene_data[\n\u001B[0;32m     23\u001B[0m     (disease_gene_data[\u001B[38;5;124m'\u001B[39m\u001B[38;5;124mdiseaseType\u001B[39m\u001B[38;5;124m'\u001B[39m] \u001B[38;5;241m!=\u001B[39m \u001B[38;5;124m'\u001B[39m\u001B[38;5;124mgroup\u001B[39m\u001B[38;5;124m'\u001B[39m) \u001B[38;5;241m&\u001B[39m\n\u001B[0;32m     24\u001B[0m     (disease_gene_data[\u001B[38;5;124m'\u001B[39m\u001B[38;5;124mdiseaseType\u001B[39m\u001B[38;5;124m'\u001B[39m] \u001B[38;5;241m!=\u001B[39m \u001B[38;5;124m'\u001B[39m\u001B[38;5;124mphenotype\u001B[39m\u001B[38;5;124m'\u001B[39m) \u001B[38;5;241m&\u001B[39m\n\u001B[0;32m     25\u001B[0m     (disease_gene_data[\u001B[38;5;124m'\u001B[39m\u001B[38;5;124mdiseaseId\u001B[39m\u001B[38;5;124m'\u001B[39m]\u001B[38;5;241m.\u001B[39misin(diseases_to_delete))\n\u001B[0;32m     26\u001B[0m ]\n",
      "File \u001B[1;32m~\\Documents\\UPM\\Complex data in health\\Project\\venv\\lib\\site-packages\\pandas\\core\\frame.py:8869\u001B[0m, in \u001B[0;36mDataFrame.groupby\u001B[1;34m(self, by, axis, level, as_index, sort, group_keys, observed, dropna)\u001B[0m\n\u001B[0;32m   8866\u001B[0m \u001B[38;5;28;01mif\u001B[39;00m level \u001B[38;5;129;01mis\u001B[39;00m \u001B[38;5;28;01mNone\u001B[39;00m \u001B[38;5;129;01mand\u001B[39;00m by \u001B[38;5;129;01mis\u001B[39;00m \u001B[38;5;28;01mNone\u001B[39;00m:\n\u001B[0;32m   8867\u001B[0m     \u001B[38;5;28;01mraise\u001B[39;00m \u001B[38;5;167;01mTypeError\u001B[39;00m(\u001B[38;5;124m\"\u001B[39m\u001B[38;5;124mYou have to supply one of \u001B[39m\u001B[38;5;124m'\u001B[39m\u001B[38;5;124mby\u001B[39m\u001B[38;5;124m'\u001B[39m\u001B[38;5;124m and \u001B[39m\u001B[38;5;124m'\u001B[39m\u001B[38;5;124mlevel\u001B[39m\u001B[38;5;124m'\u001B[39m\u001B[38;5;124m\"\u001B[39m)\n\u001B[1;32m-> 8869\u001B[0m \u001B[38;5;28;01mreturn\u001B[39;00m \u001B[43mDataFrameGroupBy\u001B[49m\u001B[43m(\u001B[49m\n\u001B[0;32m   8870\u001B[0m \u001B[43m    \u001B[49m\u001B[43mobj\u001B[49m\u001B[38;5;241;43m=\u001B[39;49m\u001B[38;5;28;43mself\u001B[39;49m\u001B[43m,\u001B[49m\n\u001B[0;32m   8871\u001B[0m \u001B[43m    \u001B[49m\u001B[43mkeys\u001B[49m\u001B[38;5;241;43m=\u001B[39;49m\u001B[43mby\u001B[49m\u001B[43m,\u001B[49m\n\u001B[0;32m   8872\u001B[0m \u001B[43m    \u001B[49m\u001B[43maxis\u001B[49m\u001B[38;5;241;43m=\u001B[39;49m\u001B[43maxis\u001B[49m\u001B[43m,\u001B[49m\n\u001B[0;32m   8873\u001B[0m \u001B[43m    \u001B[49m\u001B[43mlevel\u001B[49m\u001B[38;5;241;43m=\u001B[39;49m\u001B[43mlevel\u001B[49m\u001B[43m,\u001B[49m\n\u001B[0;32m   8874\u001B[0m \u001B[43m    \u001B[49m\u001B[43mas_index\u001B[49m\u001B[38;5;241;43m=\u001B[39;49m\u001B[43mas_index\u001B[49m\u001B[43m,\u001B[49m\n\u001B[0;32m   8875\u001B[0m \u001B[43m    \u001B[49m\u001B[43msort\u001B[49m\u001B[38;5;241;43m=\u001B[39;49m\u001B[43msort\u001B[49m\u001B[43m,\u001B[49m\n\u001B[0;32m   8876\u001B[0m \u001B[43m    \u001B[49m\u001B[43mgroup_keys\u001B[49m\u001B[38;5;241;43m=\u001B[39;49m\u001B[43mgroup_keys\u001B[49m\u001B[43m,\u001B[49m\n\u001B[0;32m   8877\u001B[0m \u001B[43m    \u001B[49m\u001B[43mobserved\u001B[49m\u001B[38;5;241;43m=\u001B[39;49m\u001B[43mobserved\u001B[49m\u001B[43m,\u001B[49m\n\u001B[0;32m   8878\u001B[0m \u001B[43m    \u001B[49m\u001B[43mdropna\u001B[49m\u001B[38;5;241;43m=\u001B[39;49m\u001B[43mdropna\u001B[49m\u001B[43m,\u001B[49m\n\u001B[0;32m   8879\u001B[0m \u001B[43m\u001B[49m\u001B[43m)\u001B[49m\n",
      "File \u001B[1;32m~\\Documents\\UPM\\Complex data in health\\Project\\venv\\lib\\site-packages\\pandas\\core\\groupby\\groupby.py:1278\u001B[0m, in \u001B[0;36mGroupBy.__init__\u001B[1;34m(self, obj, keys, axis, level, grouper, exclusions, selection, as_index, sort, group_keys, observed, dropna)\u001B[0m\n\u001B[0;32m   1275\u001B[0m \u001B[38;5;28mself\u001B[39m\u001B[38;5;241m.\u001B[39mdropna \u001B[38;5;241m=\u001B[39m dropna\n\u001B[0;32m   1277\u001B[0m \u001B[38;5;28;01mif\u001B[39;00m grouper \u001B[38;5;129;01mis\u001B[39;00m \u001B[38;5;28;01mNone\u001B[39;00m:\n\u001B[1;32m-> 1278\u001B[0m     grouper, exclusions, obj \u001B[38;5;241m=\u001B[39m \u001B[43mget_grouper\u001B[49m\u001B[43m(\u001B[49m\n\u001B[0;32m   1279\u001B[0m \u001B[43m        \u001B[49m\u001B[43mobj\u001B[49m\u001B[43m,\u001B[49m\n\u001B[0;32m   1280\u001B[0m \u001B[43m        \u001B[49m\u001B[43mkeys\u001B[49m\u001B[43m,\u001B[49m\n\u001B[0;32m   1281\u001B[0m \u001B[43m        \u001B[49m\u001B[43maxis\u001B[49m\u001B[38;5;241;43m=\u001B[39;49m\u001B[43maxis\u001B[49m\u001B[43m,\u001B[49m\n\u001B[0;32m   1282\u001B[0m \u001B[43m        \u001B[49m\u001B[43mlevel\u001B[49m\u001B[38;5;241;43m=\u001B[39;49m\u001B[43mlevel\u001B[49m\u001B[43m,\u001B[49m\n\u001B[0;32m   1283\u001B[0m \u001B[43m        \u001B[49m\u001B[43msort\u001B[49m\u001B[38;5;241;43m=\u001B[39;49m\u001B[43msort\u001B[49m\u001B[43m,\u001B[49m\n\u001B[0;32m   1284\u001B[0m \u001B[43m        \u001B[49m\u001B[43mobserved\u001B[49m\u001B[38;5;241;43m=\u001B[39;49m\u001B[38;5;28;43;01mFalse\u001B[39;49;00m\u001B[43m \u001B[49m\u001B[38;5;28;43;01mif\u001B[39;49;00m\u001B[43m \u001B[49m\u001B[43mobserved\u001B[49m\u001B[43m \u001B[49m\u001B[38;5;129;43;01mis\u001B[39;49;00m\u001B[43m \u001B[49m\u001B[43mlib\u001B[49m\u001B[38;5;241;43m.\u001B[39;49m\u001B[43mno_default\u001B[49m\u001B[43m \u001B[49m\u001B[38;5;28;43;01melse\u001B[39;49;00m\u001B[43m \u001B[49m\u001B[43mobserved\u001B[49m\u001B[43m,\u001B[49m\n\u001B[0;32m   1285\u001B[0m \u001B[43m        \u001B[49m\u001B[43mdropna\u001B[49m\u001B[38;5;241;43m=\u001B[39;49m\u001B[38;5;28;43mself\u001B[39;49m\u001B[38;5;241;43m.\u001B[39;49m\u001B[43mdropna\u001B[49m\u001B[43m,\u001B[49m\n\u001B[0;32m   1286\u001B[0m \u001B[43m    \u001B[49m\u001B[43m)\u001B[49m\n\u001B[0;32m   1288\u001B[0m \u001B[38;5;28;01mif\u001B[39;00m observed \u001B[38;5;129;01mis\u001B[39;00m lib\u001B[38;5;241m.\u001B[39mno_default:\n\u001B[0;32m   1289\u001B[0m     \u001B[38;5;28;01mif\u001B[39;00m \u001B[38;5;28many\u001B[39m(ping\u001B[38;5;241m.\u001B[39m_passed_categorical \u001B[38;5;28;01mfor\u001B[39;00m ping \u001B[38;5;129;01min\u001B[39;00m grouper\u001B[38;5;241m.\u001B[39mgroupings):\n",
      "File \u001B[1;32m~\\Documents\\UPM\\Complex data in health\\Project\\venv\\lib\\site-packages\\pandas\\core\\groupby\\grouper.py:1009\u001B[0m, in \u001B[0;36mget_grouper\u001B[1;34m(obj, key, axis, level, sort, observed, validate, dropna)\u001B[0m\n\u001B[0;32m   1007\u001B[0m         in_axis, level, gpr \u001B[38;5;241m=\u001B[39m \u001B[38;5;28;01mFalse\u001B[39;00m, gpr, \u001B[38;5;28;01mNone\u001B[39;00m\n\u001B[0;32m   1008\u001B[0m     \u001B[38;5;28;01melse\u001B[39;00m:\n\u001B[1;32m-> 1009\u001B[0m         \u001B[38;5;28;01mraise\u001B[39;00m \u001B[38;5;167;01mKeyError\u001B[39;00m(gpr)\n\u001B[0;32m   1010\u001B[0m \u001B[38;5;28;01melif\u001B[39;00m \u001B[38;5;28misinstance\u001B[39m(gpr, Grouper) \u001B[38;5;129;01mand\u001B[39;00m gpr\u001B[38;5;241m.\u001B[39mkey \u001B[38;5;129;01mis\u001B[39;00m \u001B[38;5;129;01mnot\u001B[39;00m \u001B[38;5;28;01mNone\u001B[39;00m:\n\u001B[0;32m   1011\u001B[0m     \u001B[38;5;66;03m# Add key to exclusions\u001B[39;00m\n\u001B[0;32m   1012\u001B[0m     exclusions\u001B[38;5;241m.\u001B[39madd(gpr\u001B[38;5;241m.\u001B[39mkey)\n",
      "\u001B[1;31mKeyError\u001B[0m: 'diseaseId'"
     ]
    }
   ],
   "source": [
    "import pandas as pd\n",
    "import networkx as nx\n",
    "import localization\n",
    "\n",
    "disease_gene_data = pd.read_csv('datasets/disease_gene.tsv', sep='\\t')\n",
    "print(\"\\nBeginning preprocessing:\")\n",
    "print(disease_gene_data.head())\n",
    "print(\"Diseases number: \",len(disease_gene_data))\n",
    "\n",
    "# Delete duplicates\n",
    "# disease_gene_data = disease_gene_data[disease_gene_data.diseaseType == 'disease'][['geneSymbol', 'diseaseName']].drop_duplicates()\n",
    "\n",
    "print(\"aaaaa : \",len(disease_gene_data))\n",
    "\n",
    "# Lower disease names and use these names to identify diseases.\n",
    "disease_gene_data['diseaseName'] = disease_gene_data['diseaseName'].str.lower()\n",
    "print(\"bbbbb : \",len(disease_gene_data))\n",
    "\n",
    "# Filter disease_gene associations, so that we only focus on those disease types that are not “group” or “phenotype”, and that we just keep those diseases that have at least 10 associated genes.\n",
    "gene_count_per_disease = disease_gene_data.groupby('diseaseId')['geneId'].nunique()\n",
    "diseases_to_delete = gene_count_per_disease[gene_count_per_disease >= 10].index\n",
    "disease_gene_data = disease_gene_data[\n",
    "    (disease_gene_data['diseaseType'] != 'group') &\n",
    "    (disease_gene_data['diseaseType'] != 'phenotype') &\n",
    "    (disease_gene_data['diseaseId'].isin(diseases_to_delete))\n",
    "]\n",
    "\n",
    "# Filter drug targets so that they are related to Humans. \n",
    "drug_target_data = pd.read_csv('datasets/drug_target.csv')\n",
    "filtered_drug_targets = drug_target_data[drug_target_data['organism'] == 'Human']\n",
    "\n",
    "# Use drug names to identify drugs\n",
    "# TODO\n",
    "\n",
    "print(\"\\nEnd preprocessing:\")\n",
    "print(disease_gene_data.head())\n",
    "print(\"Diseases number: \",len(disease_gene_data))"
   ],
   "metadata": {
    "collapsed": false,
    "ExecuteTime": {
     "end_time": "2023-11-28T14:03:28.928557200Z",
     "start_time": "2023-11-28T14:03:28.436950900Z"
    }
   },
   "id": "3da38a782c7ea8d8"
  },
  {
   "cell_type": "markdown",
   "source": [],
   "metadata": {
    "collapsed": false
   },
   "id": "5609daf5eaaec134"
  },
  {
   "cell_type": "markdown",
   "source": [
    "## Network medicine"
   ],
   "metadata": {
    "collapsed": false
   },
   "id": "c4872a670f831eb1"
  },
  {
   "cell_type": "code",
   "execution_count": 16,
   "outputs": [],
   "source": [
    "ppi = pd.read_csv('datasets/ppi.csv')\n",
    "\n",
    "# drop duplicates\n",
    "ppi = (ppi[['Symbol_A','Symbol_B']]\n",
    "       .drop_duplicates()\n",
    "       .dropna())\n",
    "\n",
    "gppi = nx.from_pandas_edgelist(ppi, 'Symbol_A', 'Symbol_B')\n",
    "\n",
    "# Removing self loops\n",
    "sl = nx.selfloop_edges(gppi)\n",
    "gppi.remove_edges_from(sl)"
   ],
   "metadata": {
    "collapsed": false,
    "ExecuteTime": {
     "end_time": "2023-11-28T13:59:51.215283300Z",
     "start_time": "2023-11-28T13:59:50.013231700Z"
    }
   },
   "id": "85c8b1013d2f779d"
  },
  {
   "cell_type": "code",
   "execution_count": 17,
   "outputs": [],
   "source": [
    "def get_disease_module_info(dis_name, gda, ppi):\n",
    "    \n",
    "    d = gda[gda.diseaseName == dis_name]\n",
    "    genes = list(d.geneSymbol.unique())\n",
    "    genes_in_ppi = [n for n in gppi.nodes if n in genes]\n",
    "    genes_in_lcc = localization.get_lcc(ppi, genes_in_ppi)\n",
    "    \n",
    "    print('Number of disease genes: ',len(genes))\n",
    "    print('Number of disease genes in the PPI: ',len(genes_in_ppi))\n",
    "    print('Number of disease genes in the LCC: ',len(genes_in_lcc))\n",
    "    \n",
    "    return genes, genes_in_ppi, genes_in_lcc"
   ],
   "metadata": {
    "collapsed": false,
    "ExecuteTime": {
     "end_time": "2023-11-28T13:59:51.230680Z",
     "start_time": "2023-11-28T13:59:51.215283300Z"
    }
   },
   "id": "bc63671ee452210f"
  },
  {
   "cell_type": "code",
   "execution_count": 18,
   "outputs": [
    {
     "name": "stdout",
     "output_type": "stream",
     "text": [
      "Number of disease genes:  16\n",
      "Number of disease genes in the PPI:  16\n",
      "Number of disease genes in the LCC:  7\n"
     ]
    }
   ],
   "source": [
    "dermatisis = get_disease_module_info('dermatitis', disease_gene_data, gppi)"
   ],
   "metadata": {
    "collapsed": false,
    "ExecuteTime": {
     "end_time": "2023-11-28T13:59:51.261917300Z",
     "start_time": "2023-11-28T13:59:51.246309Z"
    }
   },
   "id": "3226a9b6b34dcdbb"
  },
  {
   "cell_type": "markdown",
   "source": [
    "### Disease separation\n",
    "Let's compare Dermatitis and Psoriasis"
   ],
   "metadata": {
    "collapsed": false
   },
   "id": "dfc38edbd5706d62"
  },
  {
   "cell_type": "code",
   "execution_count": 19,
   "outputs": [
    {
     "name": "stdout",
     "output_type": "stream",
     "text": [
      "Number of disease genes:  57\n",
      "Number of disease genes in the PPI:  57\n",
      "Number of disease genes in the LCC:  30\n",
      "separation_dermatitis_psoriasis :  1.6216216216216217\n"
     ]
    }
   ],
   "source": [
    "import separation\n",
    "\n",
    "psoriasis = get_disease_module_info('psoriasis', disease_gene_data, gppi)\n",
    "separation_dermatitis_psoriasis = separation.get_separation(gppi, psoriasis[2], dermatisis[2])\n",
    "print(\"separation_dermatitis_psoriasis : \",separation_dermatitis_psoriasis)"
   ],
   "metadata": {
    "collapsed": false,
    "ExecuteTime": {
     "end_time": "2023-11-28T13:59:51.371308800Z",
     "start_time": "2023-11-28T13:59:51.261917300Z"
    }
   },
   "id": "7e16672afbebbae7"
  },
  {
   "cell_type": "markdown",
   "source": [
    "Let's compare Dermatitis and Skizophrenia"
   ],
   "metadata": {
    "collapsed": false
   },
   "id": "888ef88a4ef86312"
  },
  {
   "cell_type": "code",
   "execution_count": 20,
   "outputs": [
    {
     "name": "stdout",
     "output_type": "stream",
     "text": [
      "Number of disease genes:  883\n",
      "Number of disease genes in the PPI:  846\n",
      "Number of disease genes in the LCC:  683\n",
      "separation_dermatitis_schizophrenia :  1.8753623188405797\n"
     ]
    }
   ],
   "source": [
    "schizophrenia = get_disease_module_info('schizophrenia', disease_gene_data, gppi)\n",
    "separation_dermatitis_schizophrenia = separation.get_separation(gppi, schizophrenia[2], dermatisis[2])\n",
    "print(\"separation_dermatitis_schizophrenia : \",separation_dermatitis_schizophrenia)"
   ],
   "metadata": {
    "collapsed": false,
    "ExecuteTime": {
     "end_time": "2023-11-28T14:00:19.606674800Z",
     "start_time": "2023-11-28T13:59:51.371308800Z"
    }
   },
   "id": "384f14f861b9605f"
  }
 ],
 "metadata": {
  "kernelspec": {
   "display_name": "Python 3",
   "language": "python",
   "name": "python3"
  },
  "language_info": {
   "codemirror_mode": {
    "name": "ipython",
    "version": 2
   },
   "file_extension": ".py",
   "mimetype": "text/x-python",
   "name": "python",
   "nbconvert_exporter": "python",
   "pygments_lexer": "ipython2",
   "version": "2.7.6"
  }
 },
 "nbformat": 4,
 "nbformat_minor": 5
}
