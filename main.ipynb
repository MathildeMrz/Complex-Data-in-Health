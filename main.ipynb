{
 "cells": [
  {
   "cell_type": "markdown",
   "source": [
    "## Preprocessing"
   ],
   "metadata": {
    "collapsed": false
   },
   "id": "c27c58dfa3c5e513"
  },
  {
   "cell_type": "code",
   "execution_count": 26,
   "outputs": [
    {
     "name": "stdout",
     "output_type": "stream",
     "text": [
      "\n",
      "Beginning preprocessing:\n",
      "   geneId geneSymbol    DSI    DPI diseaseId               diseaseName  \\\n",
      "0       1       A1BG  0.700  0.538  C0019209              Hepatomegaly   \n",
      "1       1       A1BG  0.700  0.538  C0036341             Schizophrenia   \n",
      "2       2        A2M  0.529  0.769  C0002395       Alzheimer's Disease   \n",
      "3       2        A2M  0.529  0.769  C0007102  Malignant tumor of colon   \n",
      "4       2        A2M  0.529  0.769  C0009375         Colonic Neoplasms   \n",
      "\n",
      "  diseaseType diseaseClass               diseaseSemanticType  score     EI  \\\n",
      "0   phenotype      C23;C06                           Finding   0.30  1.000   \n",
      "1     disease          F03  Mental or Behavioral Dysfunction   0.30  1.000   \n",
      "2     disease      C10;F03               Disease or Syndrome   0.50  0.769   \n",
      "3     disease      C06;C04                Neoplastic Process   0.31  1.000   \n",
      "4       group      C06;C04                Neoplastic Process   0.30  1.000   \n",
      "\n",
      "   YearInitial  YearFinal  NofPmids  NofSnps     source  \n",
      "0       2017.0     2017.0         1        0  CTD_human  \n",
      "1       2015.0     2015.0         1        0  CTD_human  \n",
      "2       1998.0     2018.0         3        0  CTD_human  \n",
      "3       2004.0     2019.0         1        0  CTD_human  \n",
      "4       2004.0     2004.0         1        0  CTD_human  \n",
      "Diseases number:  84038\n",
      "\n",
      "End preprocessing:\n",
      "   geneId geneSymbol    DSI    DPI diseaseId               diseaseName  \\\n",
      "1       1       A1BG  0.700  0.538  C0036341             schizophrenia   \n",
      "2       2        A2M  0.529  0.769  C0002395       alzheimer's disease   \n",
      "3       2        A2M  0.529  0.769  C0007102  malignant tumor of colon   \n",
      "5       2        A2M  0.529  0.769  C0011265        presenile dementia   \n",
      "6       2        A2M  0.529  0.769  C0011570         mental depression   \n",
      "\n",
      "  diseaseType diseaseClass               diseaseSemanticType  score     EI  \\\n",
      "1     disease          F03  Mental or Behavioral Dysfunction   0.30  1.000   \n",
      "2     disease      C10;F03               Disease or Syndrome   0.50  0.769   \n",
      "3     disease      C06;C04                Neoplastic Process   0.31  1.000   \n",
      "5     disease      C10;F03  Mental or Behavioral Dysfunction   0.30  1.000   \n",
      "6     disease          F01  Mental or Behavioral Dysfunction   0.30  1.000   \n",
      "\n",
      "   YearInitial  YearFinal  NofPmids  NofSnps     source  \n",
      "1       2015.0     2015.0         1        0  CTD_human  \n",
      "2       1998.0     2018.0         3        0  CTD_human  \n",
      "3       2004.0     2019.0         1        0  CTD_human  \n",
      "5       1998.0     2004.0         3        0  CTD_human  \n",
      "6       1987.0     2000.0         2        0   PSYGENET  \n",
      "Diseases number:  44959\n"
     ]
    }
   ],
   "source": [
    "import pandas as pd\n",
    "import networkx as nx\n",
    "import localization\n",
    "import separation\n",
    "import proximity\n",
    "import seaborn as sns\n",
    "import matplotlib.pylab as plt\n",
    "\n",
    "disease_gene_data = pd.read_csv('datasets/disease_gene.tsv', sep='\\t')\n",
    "print(\"\\nBeginning preprocessing:\")\n",
    "print(disease_gene_data.head())\n",
    "print(\"Diseases number: \",len(disease_gene_data))\n",
    "# disease_gene_data = disease_gene_data[disease_gene_data.diseaseType == 'disease'][['geneSymbol', 'diseaseName']].drop_duplicates()\n",
    "\n",
    "# Lower disease names and use these names to identify diseases.\n",
    "disease_gene_data['diseaseName'] = disease_gene_data['diseaseName'].str.lower()\n",
    "\n",
    "# Filter disease_gene associations, so that we only focus on those disease types that are not “group” or “phenotype”, and that we just keep those diseases that have at least 10 associated genes.\n",
    "gene_count_per_disease = disease_gene_data.groupby('diseaseId')['geneId'].nunique()\n",
    "diseases_to_delete = gene_count_per_disease[gene_count_per_disease >= 10].index\n",
    "disease_gene_data = disease_gene_data[\n",
    "    (disease_gene_data['diseaseType'] != 'group') &\n",
    "    (disease_gene_data['diseaseType'] != 'phenotype') &\n",
    "    (disease_gene_data['diseaseId'].isin(diseases_to_delete))\n",
    "]\n",
    "\n",
    "# Filter drug targets so that they are related to Humans. \n",
    "drug_target_data = pd.read_csv('datasets/drug_target.csv')\n",
    "drug_target_data = drug_target_data[drug_target_data.organism=='Humans'][['Gene_Target','Name']].drop_duplicates()\n",
    "\n",
    "# Use drug names to identify drugs\n",
    "# TODO\n",
    "\n",
    "print(\"\\nEnd preprocessing:\")\n",
    "print(disease_gene_data.head())\n",
    "print(\"Diseases number: \",len(disease_gene_data))"
   ],
   "metadata": {
    "collapsed": false,
    "ExecuteTime": {
     "end_time": "2023-11-28T14:36:36.280678600Z",
     "start_time": "2023-11-28T14:36:32.835684800Z"
    }
   },
   "id": "3da38a782c7ea8d8"
  },
  {
   "cell_type": "markdown",
   "source": [],
   "metadata": {
    "collapsed": false
   },
   "id": "5609daf5eaaec134"
  },
  {
   "cell_type": "markdown",
   "source": [
    "## Network medicine"
   ],
   "metadata": {
    "collapsed": false
   },
   "id": "c4872a670f831eb1"
  },
  {
   "cell_type": "code",
   "execution_count": 27,
   "outputs": [],
   "source": [
    "ppi = pd.read_csv('datasets/ppi.csv')\n",
    "\n",
    "# drop duplicates\n",
    "ppi = (ppi[['Symbol_A','Symbol_B']]\n",
    "       .drop_duplicates()\n",
    "       .dropna())\n",
    "\n",
    "gppi = nx.from_pandas_edgelist(ppi, 'Symbol_A', 'Symbol_B')\n",
    "\n",
    "# Removing self loops\n",
    "sl = nx.selfloop_edges(gppi)\n",
    "gppi.remove_edges_from(sl)"
   ],
   "metadata": {
    "collapsed": false,
    "ExecuteTime": {
     "end_time": "2023-11-28T14:36:37.442058600Z",
     "start_time": "2023-11-28T14:36:36.294821600Z"
    }
   },
   "id": "85c8b1013d2f779d"
  },
  {
   "cell_type": "code",
   "execution_count": 28,
   "outputs": [],
   "source": [
    "def get_disease_module_info(dis_name, gda, ppi):\n",
    "    \n",
    "    d = gda[gda.diseaseName == dis_name]\n",
    "    genes = list(d.geneSymbol.unique())\n",
    "    genes_in_ppi = [n for n in gppi.nodes if n in genes]\n",
    "    genes_in_lcc = localization.get_lcc(ppi, genes_in_ppi)\n",
    "    \n",
    "    print('Number of disease genes: ',len(genes))\n",
    "    print('Number of disease genes in the PPI: ',len(genes_in_ppi))\n",
    "    print('Number of disease genes in the LCC: ',len(genes_in_lcc))\n",
    "    \n",
    "    return genes, genes_in_ppi, genes_in_lcc"
   ],
   "metadata": {
    "collapsed": false,
    "ExecuteTime": {
     "end_time": "2023-11-28T14:36:37.457682100Z",
     "start_time": "2023-11-28T14:36:37.442058600Z"
    }
   },
   "id": "bc63671ee452210f"
  },
  {
   "cell_type": "code",
   "execution_count": 29,
   "outputs": [
    {
     "name": "stdout",
     "output_type": "stream",
     "text": [
      "Number of disease genes:  16\n",
      "Number of disease genes in the PPI:  16\n",
      "Number of disease genes in the LCC:  7\n"
     ]
    }
   ],
   "source": [
    "dermatitis = get_disease_module_info('dermatitis', disease_gene_data, gppi)"
   ],
   "metadata": {
    "collapsed": false,
    "ExecuteTime": {
     "end_time": "2023-11-28T14:36:37.488655400Z",
     "start_time": "2023-11-28T14:36:37.473064700Z"
    }
   },
   "id": "3226a9b6b34dcdbb"
  },
  {
   "cell_type": "markdown",
   "source": [
    "### Disease separation\n",
    "Let's compare Dermatitis and Psoriasis"
   ],
   "metadata": {
    "collapsed": false
   },
   "id": "dfc38edbd5706d62"
  },
  {
   "cell_type": "code",
   "execution_count": 30,
   "outputs": [
    {
     "name": "stdout",
     "output_type": "stream",
     "text": [
      "Number of disease genes:  57\n",
      "Number of disease genes in the PPI:  57\n",
      "Number of disease genes in the LCC:  30\n",
      "separation_dermatitis_psoriasis :  1.6216216216216217\n"
     ]
    }
   ],
   "source": [
    "psoriasis = get_disease_module_info('psoriasis', disease_gene_data, gppi)\n",
    "separation_dermatitis_psoriasis = separation.get_separation(gppi, psoriasis[2], dermatitis[2])\n",
    "print(\"separation_dermatitis_psoriasis : \",separation_dermatitis_psoriasis)"
   ],
   "metadata": {
    "collapsed": false,
    "ExecuteTime": {
     "end_time": "2023-11-28T14:36:37.582399800Z",
     "start_time": "2023-11-28T14:36:37.535528200Z"
    }
   },
   "id": "7e16672afbebbae7"
  },
  {
   "cell_type": "markdown",
   "source": [
    "Let's compare Dermatitis and Skizophrenia"
   ],
   "metadata": {
    "collapsed": false
   },
   "id": "888ef88a4ef86312"
  },
  {
   "cell_type": "code",
   "execution_count": 31,
   "outputs": [
    {
     "name": "stdout",
     "output_type": "stream",
     "text": [
      "Number of disease genes:  883\n",
      "Number of disease genes in the PPI:  846\n",
      "Number of disease genes in the LCC:  683\n",
      "separation_dermatitis_schizophrenia :  1.8753623188405797\n"
     ]
    }
   ],
   "source": [
    "schizophrenia = get_disease_module_info('schizophrenia', disease_gene_data, gppi)\n",
    "separation_dermatitis_schizophrenia = separation.get_separation(gppi, schizophrenia[2], dermatitis[2])\n",
    "print(\"separation_dermatitis_schizophrenia : \",separation_dermatitis_schizophrenia)"
   ],
   "metadata": {
    "collapsed": false,
    "ExecuteTime": {
     "end_time": "2023-11-28T14:37:05.006715400Z",
     "start_time": "2023-11-28T14:36:37.582399800Z"
    }
   },
   "id": "384f14f861b9605f"
  },
  {
   "cell_type": "markdown",
   "source": [
    "### Disease - drug proximity"
   ],
   "metadata": {
    "collapsed": false
   },
   "id": "e8284074fe7aaef8"
  },
  {
   "cell_type": "code",
   "execution_count": 32,
   "outputs": [],
   "source": [
    "def plot_proximity(G, genes, targets, sim):\n",
    "    \n",
    "    prox_dict = proximity.get_proximity(G, genes, targets, sim)\n",
    "    \n",
    "    prox_obs = prox_dict['proximity']\n",
    "    random_prox = prox_dict['proximity_list']\n",
    "\n",
    "    print('Proximity observed: ',prox_obs)\n",
    "    print('\\nMean: ',prox_dict['mean'])\n",
    "    print('Std: ',prox_dict['std'])\n",
    "    print('z-score: ',prox_dict['z_score'])\n",
    "    print('p-value: ',prox_dict['p_value'])\n",
    "\n",
    "\n",
    "    fig, axs = plt.subplots()\n",
    "    sns.histplot(data=random_prox,\n",
    "                 bins=10)\n",
    "    plt.axvline(prox_obs, color='r')\n",
    "    plt.xlabel('Proximity value')\n",
    "    plt.ylabel('Count iterations')\n",
    "    plt.tight_layout()\n",
    "    plt.show()"
   ],
   "metadata": {
    "collapsed": false,
    "ExecuteTime": {
     "end_time": "2023-11-28T14:37:05.022613Z",
     "start_time": "2023-11-28T14:37:05.006715400Z"
    }
   },
   "id": "16af80bf802da008"
  },
  {
   "cell_type": "code",
   "execution_count": 33,
   "outputs": [
    {
     "name": "stdout",
     "output_type": "stream",
     "text": [
      "Lepirudin\n",
      "\tTargets:  ['F2']\n",
      "Proximity observed:  2.4285714285714284\n",
      "\n",
      "Mean:  2.5444285714285715\n",
      "Std:  0.12529793066356468\n",
      "z-score:  -0.9246532823293716\n",
      "p-value:  0.3551462877298863\n"
     ]
    },
    {
     "data": {
      "text/plain": "<Figure size 640x480 with 1 Axes>",
      "image/png": "[encoded data removed]"
     },
     "metadata": {},
     "output_type": "display_data"
    }
   ],
   "source": [
    "le_t = drug_target_data[drug_target_data.Name == 'Lepirudin'].Gene_Target.unique()\n",
    "print('Lepirudin')\n",
    "print('\\tTargets: ',le_t)\n",
    "\n",
    "plot_proximity(gppi, \n",
    "               set(dermatitis[2]), \n",
    "               set(le_t), \n",
    "               1000)"
   ],
   "metadata": {
    "collapsed": false,
    "ExecuteTime": {
     "end_time": "2023-11-28T14:38:50.594506600Z",
     "start_time": "2023-11-28T14:38:49.406253400Z"
    }
   },
   "id": "d10d3c7fb9402ef9"
  },
  {
   "cell_type": "code",
   "execution_count": null,
   "outputs": [],
   "source": [],
   "metadata": {
    "collapsed": false
   },
   "id": "be3ed9f3816a7cf1"
  }
 ],
 "metadata": {
  "kernelspec": {
   "display_name": "Python 3",
   "language": "python",
   "name": "python3"
  },
  "language_info": {
   "codemirror_mode": {
    "name": "ipython",
    "version": 2
   },
   "file_extension": ".py",
   "mimetype": "text/x-python",
   "name": "python",
   "nbconvert_exporter": "python",
   "pygments_lexer": "ipython2",
   "version": "2.7.6"
  }
 },
 "nbformat": 4,
 "nbformat_minor": 5
}
