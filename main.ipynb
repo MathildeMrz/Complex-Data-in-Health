{
 "cells": [
  {
   "cell_type": "code",
   "execution_count": 22,
   "outputs": [],
   "source": [
    "## Preprocessing"
   ],
   "metadata": {
    "collapsed": false,
    "ExecuteTime": {
     "end_time": "2023-12-07T12:32:40.053893500Z",
     "start_time": "2023-12-07T12:32:39.930489Z"
    }
   },
   "id": "d9edb385de93cba8"
  },
  {
   "cell_type": "code",
   "execution_count": 23,
   "outputs": [
    {
     "name": "stdout",
     "output_type": "stream",
     "text": [
      "\n",
      "Beginning preprocessing:\n",
      "   geneId geneSymbol    DSI    DPI diseaseId               diseaseName  \\\n",
      "0       1       A1BG  0.700  0.538  C0019209              Hepatomegaly   \n",
      "1       1       A1BG  0.700  0.538  C0036341             Schizophrenia   \n",
      "2       2        A2M  0.529  0.769  C0002395       Alzheimer's Disease   \n",
      "3       2        A2M  0.529  0.769  C0007102  Malignant tumor of colon   \n",
      "4       2        A2M  0.529  0.769  C0009375         Colonic Neoplasms   \n",
      "\n",
      "  diseaseType diseaseClass               diseaseSemanticType  score     EI  \\\n",
      "0   phenotype      C23;C06                           Finding   0.30  1.000   \n",
      "1     disease          F03  Mental or Behavioral Dysfunction   0.30  1.000   \n",
      "2     disease      C10;F03               Disease or Syndrome   0.50  0.769   \n",
      "3     disease      C06;C04                Neoplastic Process   0.31  1.000   \n",
      "4       group      C06;C04                Neoplastic Process   0.30  1.000   \n",
      "\n",
      "   YearInitial  YearFinal  NofPmids  NofSnps     source  \n",
      "0       2017.0     2017.0         1        0  CTD_human  \n",
      "1       2015.0     2015.0         1        0  CTD_human  \n",
      "2       1998.0     2018.0         3        0  CTD_human  \n",
      "3       2004.0     2019.0         1        0  CTD_human  \n",
      "4       2004.0     2004.0         1        0  CTD_human  \n",
      "Diseases number:  84038\n",
      "------------------------------------------------\n",
      "   i       ID       Name                                        Description  \\\n",
      "0  1  DB00001  Lepirudin  Lepirudin is identical to natural hirudin exce...   \n",
      "1  2  DB00002  Cetuximab  Cetuximab is an epidermal growth factor recept...   \n",
      "2  2  DB00002  Cetuximab  Cetuximab is an epidermal growth factor recept...   \n",
      "3  2  DB00002  Cetuximab  Cetuximab is an epidermal growth factor recept...   \n",
      "4  2  DB00002  Cetuximab  Cetuximab is an epidermal growth factor recept...   \n",
      "\n",
      "  Started_commer Ended_commer    ATC   State  Approved  \\\n",
      "0     1997-03-13   2012-07-27  B01AE  liquid  approved   \n",
      "1     2004-06-29          NaN  L01XC  liquid  approved   \n",
      "2     2004-06-29          NaN  L01XC  liquid  approved   \n",
      "3     2004-06-29          NaN  L01XC  liquid  approved   \n",
      "4     2004-06-29          NaN  L01XC  liquid  approved   \n",
      "\n",
      "                                          Indication Gene_Target      DB_id  \\\n",
      "0  For the treatment of heparin-induced thrombocy...          F2  BE0000048   \n",
      "1  Cetuximab, used in combination with irinotecan...        EGFR  BE0002098   \n",
      "2  Cetuximab, used in combination with irinotecan...      FCGR3B  BE0002098   \n",
      "3  Cetuximab, used in combination with irinotecan...        C1QA  BE0002098   \n",
      "4  Cetuximab, used in combination with irinotecan...        C1QB  BE0002098   \n",
      "\n",
      "                                                name organism         Type  \\\n",
      "0                                        Prothrombin   Humans  Polypeptide   \n",
      "1  Low affinity immunoglobulin gamma Fc region re...   Humans  Polypeptide   \n",
      "2  Low affinity immunoglobulin gamma Fc region re...   Humans  Polypeptide   \n",
      "3  Low affinity immunoglobulin gamma Fc region re...   Humans  Polypeptide   \n",
      "4  Low affinity immunoglobulin gamma Fc region re...   Humans  Polypeptide   \n",
      "\n",
      "  known_action  \n",
      "0          yes  \n",
      "1      unknown  \n",
      "2      unknown  \n",
      "3      unknown  \n",
      "4      unknown  \n",
      "Drugs number:  26817\n",
      "\n",
      "End preprocessing:\n",
      "  geneSymbol    diseaseName  count_genes\n",
      "0       A1BG  schizophrenia          883\n",
      "1      ABCA1  schizophrenia          883\n",
      "2       ACHE  schizophrenia          883\n",
      "3       ACP1  schizophrenia          883\n",
      "4       ACTB  schizophrenia          883\n",
      "Diseases number:  44959\n",
      "27729       PARP1\n",
      "27730        DSG1\n",
      "27731         EGF\n",
      "27732        EGFR\n",
      "27733         FLG\n",
      "27734       HLA-B\n",
      "27735    HLA-DQA1\n",
      "27736         IL4\n",
      "27737        IL13\n",
      "27738       ITGB2\n",
      "27739     PLA2G4A\n",
      "27740      CXCL12\n",
      "27741       VCAM1\n",
      "27742       ZFP36\n",
      "27743        NOD2\n",
      "27744     SHARPIN\n",
      "Name: geneSymbol, dtype: object\n",
      "  Gene_Target       Name\n",
      "0          F2  Lepirudin\n",
      "1        EGFR  Cetuximab\n",
      "2      FCGR3B  Cetuximab\n",
      "3        C1QA  Cetuximab\n",
      "4        C1QB  Cetuximab\n",
      "Drugs number:  22751\n"
     ]
    }
   ],
   "source": [
    "import pandas as pd\n",
    "import networkx as nx\n",
    "import localization\n",
    "import separation\n",
    "import proximity\n",
    "import seaborn as sns\n",
    "import matplotlib.pylab as plt\n",
    "\n",
    "disease_gene_data = pd.read_csv('datasets/disease_gene.tsv', sep='\\t')\n",
    "drug_target_data = pd.read_csv('datasets/drug_target.csv')\n",
    "\n",
    "print(\"\\nBeginning preprocessing:\")\n",
    "print(disease_gene_data.head())\n",
    "print(\"Diseases number: \",len(disease_gene_data))\n",
    "print(\"------------------------------------------------\")\n",
    "print(drug_target_data.head())\n",
    "print(\"Drugs number: \",len(drug_target_data))\n",
    "\n",
    "# Filter disease_gene associations, so that we only focus on those disease types that are not “group” or “phenotype”,\n",
    "disease_gene_data = disease_gene_data[\n",
    "    (disease_gene_data['diseaseType'] != 'group') &\n",
    "    (disease_gene_data['diseaseType'] != 'phenotype')]\n",
    "\n",
    "# Lower disease names and use these names to identify diseases.\n",
    "disease_gene_data = disease_gene_data[disease_gene_data.diseaseType == 'disease'][['geneSymbol', 'diseaseName']].drop_duplicates()\n",
    "disease_gene_data['diseaseName'] = disease_gene_data['diseaseName'].str.lower()\n",
    "\n",
    "# Filter disease_gene associations, so that we only focus on those disease that have at least 10 associated genes.\n",
    "gene_count_per_disease = (disease_gene_data.groupby('diseaseName')\n",
    "                                             .agg('count')\n",
    "                                             .sort_values(by='geneSymbol')\n",
    "                                             .reset_index()\n",
    "                                             .rename(columns={'geneSymbol':'count_genes'}))\n",
    "\n",
    "disease_gene_data = disease_gene_data.merge(gene_count_per_disease, \n",
    "                         on='diseaseName', \n",
    "                         how='inner')\n",
    "\n",
    "disease_gene_data = disease_gene_data[(disease_gene_data['count_genes'] >= 10)]\n",
    "\n",
    "# Filter drug targets so that they are related to Humans.\n",
    "# Use drug names to identify drugs\n",
    "drug_target_data = drug_target_data[drug_target_data.organism=='Humans'][['Gene_Target','Name']].drop_duplicates()\n",
    "\n",
    "print(\"\\nEnd preprocessing:\")\n",
    "print(disease_gene_data.head())\n",
    "print(\"Diseases number: \",len(disease_gene_data))\n",
    "print(disease_gene_data[disease_gene_data['diseaseName'] == 'dermatitis']['geneSymbol'])\n",
    "print(drug_target_data.head())\n",
    "print(\"Drugs number: \",len(drug_target_data))"
   ],
   "metadata": {
    "collapsed": false,
    "ExecuteTime": {
     "end_time": "2023-12-07T12:32:40.689099900Z",
     "start_time": "2023-12-07T12:32:39.952558300Z"
    }
   },
   "id": "3da38a782c7ea8d8"
  },
  {
   "cell_type": "markdown",
   "source": [],
   "metadata": {
    "collapsed": false
   },
   "id": "5609daf5eaaec134"
  },
  {
   "cell_type": "markdown",
   "source": [
    "## Network medicine"
   ],
   "metadata": {
    "collapsed": false
   },
   "id": "c4872a670f831eb1"
  },
  {
   "cell_type": "code",
   "execution_count": 24,
   "outputs": [],
   "source": [
    "ppi = pd.read_csv('datasets/ppi.csv')\n",
    "\n",
    "# drop duplicates\n",
    "ppi = (ppi[['Symbol_A','Symbol_B']]\n",
    "       .drop_duplicates()\n",
    "       .dropna())\n",
    "\n",
    "gppi = nx.from_pandas_edgelist(ppi, 'Symbol_A', 'Symbol_B')\n",
    "\n",
    "# Removing self loops\n",
    "sl = nx.selfloop_edges(gppi)\n",
    "gppi.remove_edges_from(sl)"
   ],
   "metadata": {
    "collapsed": false,
    "ExecuteTime": {
     "end_time": "2023-12-07T12:32:44.724212Z",
     "start_time": "2023-12-07T12:32:40.681890500Z"
    }
   },
   "id": "85c8b1013d2f779d"
  },
  {
   "cell_type": "code",
   "execution_count": 25,
   "outputs": [],
   "source": [
    "def get_disease_module_info(dis_name, gda, ppi):\n",
    "    \n",
    "    d = gda[gda.diseaseName == dis_name]\n",
    "    genes = list(d.geneSymbol.unique())\n",
    "    genes_in_ppi = [n for n in gppi.nodes if n in genes]\n",
    "    genes_in_lcc = localization.get_lcc(ppi, genes_in_ppi)\n",
    "    \n",
    "    print('Number of disease genes: ',len(genes))\n",
    "    print('Number of disease genes in the PPI: ',len(genes_in_ppi))\n",
    "    print('Number of disease genes in the LCC: ',len(genes_in_lcc))\n",
    "    \n",
    "    return genes, genes_in_ppi, genes_in_lcc"
   ],
   "metadata": {
    "collapsed": false,
    "ExecuteTime": {
     "end_time": "2023-12-07T12:32:44.784564500Z",
     "start_time": "2023-12-07T12:32:44.731743700Z"
    }
   },
   "id": "bc63671ee452210f"
  },
  {
   "cell_type": "code",
   "execution_count": 26,
   "outputs": [
    {
     "name": "stdout",
     "output_type": "stream",
     "text": [
      "Number of disease genes:  16\n",
      "Number of disease genes in the PPI:  16\n",
      "Number of disease genes in the LCC:  7\n"
     ]
    }
   ],
   "source": [
    "dermatitis = get_disease_module_info('dermatitis', disease_gene_data, gppi)"
   ],
   "metadata": {
    "collapsed": false,
    "ExecuteTime": {
     "end_time": "2023-12-07T12:32:44.873531400Z",
     "start_time": "2023-12-07T12:32:44.761489800Z"
    }
   },
   "id": "3226a9b6b34dcdbb"
  },
  {
   "cell_type": "markdown",
   "source": [
    "### Disease separation"
   ],
   "metadata": {
    "collapsed": false
   },
   "id": "dfc38edbd5706d62"
  },
  {
   "cell_type": "code",
   "execution_count": 27,
   "outputs": [
    {
     "name": "stdout",
     "output_type": "stream",
     "text": [
      "Number of disease genes:  57\n",
      "Number of disease genes in the PPI:  57\n",
      "Number of disease genes in the LCC:  30\n",
      "separation_dermatitis_psoriasis :  1.6216216216216217\n"
     ]
    }
   ],
   "source": [
    "# Work on the molecular overlap of the disease you are studying with other diseases. Chose two particular diseases: one that apparently might overlap with your disease and one that apparently might be very distant to your disease. Compute the separation in the interactome of the two disease modules. Connect this question to question 3.2. Discuss the possible implications of the separation between the two diseases. \n",
    "\n",
    "# Let's compare Dermatitis and Psoriasis\n",
    "\n",
    "psoriasis = get_disease_module_info('psoriasis', disease_gene_data, gppi)\n",
    "separation_dermatitis_psoriasis = separation.get_separation(gppi, psoriasis[2], dermatitis[2])\n",
    "print(\"separation_dermatitis_psoriasis : \",separation_dermatitis_psoriasis)"
   ],
   "metadata": {
    "collapsed": false,
    "ExecuteTime": {
     "end_time": "2023-12-07T12:32:45.027803Z",
     "start_time": "2023-12-07T12:32:44.824308600Z"
    }
   },
   "id": "7e16672afbebbae7"
  },
  {
   "cell_type": "code",
   "execution_count": 28,
   "outputs": [
    {
     "name": "stdout",
     "output_type": "stream",
     "text": [
      "Number of disease genes:  883\n",
      "Number of disease genes in the PPI:  846\n",
      "Number of disease genes in the LCC:  683\n",
      "separation_dermatitis_schizophrenia :  1.8753623188405797\n"
     ]
    }
   ],
   "source": [
    "# Let's now compare Dermatitis and Schizophrenia\n",
    "\n",
    "schizophrenia = get_disease_module_info('schizophrenia', disease_gene_data, gppi)\n",
    "separation_dermatitis_schizophrenia = separation.get_separation(gppi, schizophrenia[2], dermatitis[2])\n",
    "print(\"separation_dermatitis_schizophrenia : \",separation_dermatitis_schizophrenia)"
   ],
   "metadata": {
    "collapsed": false,
    "ExecuteTime": {
     "end_time": "2023-12-07T12:33:23.676139700Z",
     "start_time": "2023-12-07T12:32:45.027803Z"
    }
   },
   "id": "384f14f861b9605f"
  },
  {
   "cell_type": "markdown",
   "source": [
    "### Disease - drug proximity"
   ],
   "metadata": {
    "collapsed": false
   },
   "id": "e8284074fe7aaef8"
  },
  {
   "cell_type": "code",
   "execution_count": 29,
   "outputs": [],
   "source": [
    "def plot_proximity(G, genes, targets, sim):\n",
    "    \n",
    "    prox_dict = proximity.get_proximity(G, genes, targets, sim)\n",
    "    \n",
    "    prox_obs = prox_dict['proximity']\n",
    "    random_prox = prox_dict['proximity_list']\n",
    "\n",
    "    print('Proximity observed: ',prox_obs)\n",
    "    print('\\nMean: ',prox_dict['mean'])\n",
    "    print('Std: ',prox_dict['std'])\n",
    "    print('z-score: ',prox_dict['z_score'])\n",
    "    print('p-value: ',prox_dict['p_value'])\n",
    "\n",
    "\n",
    "    fig, axs = plt.subplots()\n",
    "    sns.histplot(data=random_prox,\n",
    "                 bins=10)\n",
    "    plt.axvline(prox_obs, color='r')\n",
    "    plt.xlabel('Proximity value')\n",
    "    plt.ylabel('Count iterations')\n",
    "    plt.tight_layout()\n",
    "    plt.show()"
   ],
   "metadata": {
    "collapsed": false,
    "ExecuteTime": {
     "end_time": "2023-12-07T12:33:23.722848600Z",
     "start_time": "2023-12-07T12:33:23.678662200Z"
    }
   },
   "id": "16af80bf802da008"
  },
  {
   "cell_type": "code",
   "execution_count": 32,
   "outputs": [
    {
     "name": "stdout",
     "output_type": "stream",
     "text": [
      "      Gene_Target                  Name\n",
      "0              F2             Lepirudin\n",
      "1            EGFR             Cetuximab\n",
      "2          FCGR3B             Cetuximab\n",
      "3            C1QA             Cetuximab\n",
      "4            C1QB             Cetuximab\n",
      "...           ...                   ...\n",
      "26812      CALCRL            Vazegepant\n",
      "26813        ESR1  Fluoroestradiol F-18\n",
      "26814        ESR2  Fluoroestradiol F-18\n",
      "26815        SHBG  Fluoroestradiol F-18\n",
      "26816         ALB  Fluoroestradiol F-18\n",
      "\n",
      "[22751 rows x 2 columns]\n",
      "Lepirudin\n",
      "\tTargets:  ['F2']\n",
      "Proximity observed:  2.4285714285714284\n",
      "\n",
      "Mean:  2.545\n",
      "Std:  0.1249305929755579\n",
      "z-score:  -0.9319460402413223\n",
      "p-value:  0.3513644124240225\n"
     ]
    },
    {
     "data": {
      "text/plain": "<Figure size 640x480 with 1 Axes>",
      "image/png": "[encoded data removed]"
     },
     "metadata": {},
     "output_type": "display_data"
    }
   ],
   "source": [
    "drug_target_data[drug_target_data.Gene_Target.isin(dermatitis[2])][['Name']].drop_duplicates()\n",
    "print(drug_target_data)\n",
    "first_name_value = drug_target_data.loc[0, 'Name']\n",
    "\n",
    "le_t = drug_target_data[drug_target_data.Name == first_name_value].Gene_Target.unique()\n",
    "print(first_name_value)\n",
    "print('\\tTargets: ',le_t)\n",
    "\n",
    "plot_proximity(gppi, \n",
    "               set(dermatitis[2]), \n",
    "               set(le_t), \n",
    "               1000)"
   ],
   "metadata": {
    "collapsed": false,
    "ExecuteTime": {
     "end_time": "2023-12-07T12:37:10.858085500Z",
     "start_time": "2023-12-07T12:37:08.485213900Z"
    }
   },
   "id": "4dbb812d104424c8"
  },
  {
   "cell_type": "code",
   "execution_count": null,
   "outputs": [],
   "source": [],
   "metadata": {
    "collapsed": false
   },
   "id": "2eb6f5f909944e85"
  }
 ],
 "metadata": {
  "kernelspec": {
   "display_name": "Python 3",
   "language": "python",
   "name": "python3"
  },
  "language_info": {
   "codemirror_mode": {
    "name": "ipython",
    "version": 2
   },
   "file_extension": ".py",
   "mimetype": "text/x-python",
   "name": "python",
   "nbconvert_exporter": "python",
   "pygments_lexer": "ipython2",
   "version": "2.7.6"
  }
 },
 "nbformat": 4,
 "nbformat_minor": 5
}
