{
 "cells": [
  {
   "cell_type": "markdown",
   "id": "4e22f3cc-9aad-42c1-a50e-a95e0536e4d1",
   "metadata": {},
   "source": [
    "<div style=\"width: 100%; clear: both;\">\n",
    "<div style=\"float: left; width: 50%;\">\n",
    "<img src=\"https://www.upm.es/sfs/Rectorado/Gabinete%20del%20Rector/Logos/UPM/Logotipo%20con%20Leyenda/LOGOTIPO%20leyenda%20color%20PNG.png\", align=\"left\">\n",
    "</div>\n",
    "<div style=\"float: right; width: 50%;\">\n",
    "<p style=\"margin: 0; padding-top: 100px; text-align:right;\">November 2023</p>\n",
    "<p style=\"margin: 0; text-align:right;\">Complex data in health</p>\n",
    "<p style=\"margin: 0; text-align:right; padding-button: 100px;\">Lucía Prieto Santamaría</p>\n",
    "</div>\n",
    "</div>\n",
    "<div style=\"width:100%;\">&nbsp;</div>"
   ]
  },
  {
   "cell_type": "code",
   "execution_count": 1,
   "id": "bcc85c10-3b1c-456f-bcc4-85b308ffc0da",
   "metadata": {
    "tags": []
   },
   "outputs": [],
   "source": [
    "import numpy as np\n",
    "import pandas as pd\n",
    "\n",
    "import networkx as nx\n",
    "\n",
    "import seaborn as sns\n",
    "import matplotlib.pylab as plt\n",
    "\n",
    "import localization\n",
    "import separation"
   ]
  },
  {
   "cell_type": "markdown",
   "id": "4e0b96dd-0175-4d88-b600-7f1f0c50e2db",
   "metadata": {},
   "source": [
    "# 1. Disease modules"
   ]
  },
  {
   "cell_type": "code",
   "execution_count": 2,
   "id": "eb95e9f2-056f-40a5-b822-dae0f121b656",
   "metadata": {
    "tags": []
   },
   "outputs": [],
   "source": [
    "dga = pd.read_csv(\"data/disease_gene.tsv\", sep='\\t')\n",
    "cleaned_dga = dga[dga.diseaseType == 'disease'][['geneSymbol', 'diseaseName']].drop_duplicates()\n",
    "\n",
    "scz = cleaned_dga[cleaned_dga.diseaseName == 'Schizophrenia']"
   ]
  },
  {
   "cell_type": "code",
   "execution_count": 3,
   "id": "54369569-9442-4a4b-a1ec-cca53a550943",
   "metadata": {
    "tags": []
   },
   "outputs": [
    {
     "data": {
      "text/html": [
       "<div>\n",
       "<style scoped>\n",
       "    .dataframe tbody tr th:only-of-type {\n",
       "        vertical-align: middle;\n",
       "    }\n",
       "\n",
       "    .dataframe tbody tr th {\n",
       "        vertical-align: top;\n",
       "    }\n",
       "\n",
       "    .dataframe thead th {\n",
       "        text-align: right;\n",
       "    }\n",
       "</style>\n",
       "<table border=\"1\" class=\"dataframe\">\n",
       "  <thead>\n",
       "    <tr style=\"text-align: right;\">\n",
       "      <th></th>\n",
       "      <th>geneSymbol</th>\n",
       "      <th>diseaseName</th>\n",
       "    </tr>\n",
       "  </thead>\n",
       "  <tbody>\n",
       "    <tr>\n",
       "      <th>1</th>\n",
       "      <td>A1BG</td>\n",
       "      <td>Schizophrenia</td>\n",
       "    </tr>\n",
       "    <tr>\n",
       "      <th>174</th>\n",
       "      <td>ABCA1</td>\n",
       "      <td>Schizophrenia</td>\n",
       "    </tr>\n",
       "    <tr>\n",
       "      <th>384</th>\n",
       "      <td>ACHE</td>\n",
       "      <td>Schizophrenia</td>\n",
       "    </tr>\n",
       "    <tr>\n",
       "      <th>486</th>\n",
       "      <td>ACP1</td>\n",
       "      <td>Schizophrenia</td>\n",
       "    </tr>\n",
       "    <tr>\n",
       "      <th>578</th>\n",
       "      <td>ACTB</td>\n",
       "      <td>Schizophrenia</td>\n",
       "    </tr>\n",
       "    <tr>\n",
       "      <th>...</th>\n",
       "      <td>...</td>\n",
       "      <td>...</td>\n",
       "    </tr>\n",
       "    <tr>\n",
       "      <th>83631</th>\n",
       "      <td>DEL22Q11.2</td>\n",
       "      <td>Schizophrenia</td>\n",
       "    </tr>\n",
       "    <tr>\n",
       "      <th>83742</th>\n",
       "      <td>DLG2-AS1</td>\n",
       "      <td>Schizophrenia</td>\n",
       "    </tr>\n",
       "    <tr>\n",
       "      <th>83745</th>\n",
       "      <td>TSNAX-DISC1</td>\n",
       "      <td>Schizophrenia</td>\n",
       "    </tr>\n",
       "    <tr>\n",
       "      <th>83935</th>\n",
       "      <td>MIR2682</td>\n",
       "      <td>Schizophrenia</td>\n",
       "    </tr>\n",
       "    <tr>\n",
       "      <th>83937</th>\n",
       "      <td>ERVW-4</td>\n",
       "      <td>Schizophrenia</td>\n",
       "    </tr>\n",
       "  </tbody>\n",
       "</table>\n",
       "<p>883 rows × 2 columns</p>\n",
       "</div>"
      ],
      "text/plain": [
       "        geneSymbol    diseaseName\n",
       "1             A1BG  Schizophrenia\n",
       "174          ABCA1  Schizophrenia\n",
       "384           ACHE  Schizophrenia\n",
       "486           ACP1  Schizophrenia\n",
       "578           ACTB  Schizophrenia\n",
       "...            ...            ...\n",
       "83631   DEL22Q11.2  Schizophrenia\n",
       "83742     DLG2-AS1  Schizophrenia\n",
       "83745  TSNAX-DISC1  Schizophrenia\n",
       "83935      MIR2682  Schizophrenia\n",
       "83937       ERVW-4  Schizophrenia\n",
       "\n",
       "[883 rows x 2 columns]"
      ]
     },
     "execution_count": 3,
     "metadata": {},
     "output_type": "execute_result"
    }
   ],
   "source": [
    "scz"
   ]
  },
  {
   "cell_type": "code",
   "execution_count": 4,
   "id": "451b8ab9-4ab9-4f14-8490-5af4fd4a3fda",
   "metadata": {
    "tags": []
   },
   "outputs": [],
   "source": [
    "scz_genes = list(scz.geneSymbol.unique())"
   ]
  },
  {
   "cell_type": "code",
   "execution_count": 7,
   "id": "4df25583-a635-4a4c-bf4c-5ad2025f8cc6",
   "metadata": {
    "tags": []
   },
   "outputs": [
    {
     "data": {
      "text/plain": [
       "883"
      ]
     },
     "execution_count": 7,
     "metadata": {},
     "output_type": "execute_result"
    }
   ],
   "source": [
    "len(scz_genes)"
   ]
  },
  {
   "cell_type": "code",
   "execution_count": 5,
   "id": "2ff6971b-a792-410a-9ada-c83307b6913a",
   "metadata": {
    "tags": []
   },
   "outputs": [],
   "source": [
    "ppi = pd.read_csv('data/ppi.csv')\n",
    "\n",
    "ppi = (ppi[['Symbol_A','Symbol_B']]\n",
    "       .drop_duplicates()\n",
    "       .dropna())\n",
    "\n",
    "gppi = nx.from_pandas_edgelist(ppi, 'Symbol_A', 'Symbol_B')\n",
    "\n",
    "# Removing self loops\n",
    "sl = nx.selfloop_edges(gppi)\n",
    "gppi.remove_edges_from(sl)"
   ]
  },
  {
   "cell_type": "code",
   "execution_count": 6,
   "id": "f861819c-c4b5-4a87-bec2-57918442261f",
   "metadata": {
    "tags": []
   },
   "outputs": [],
   "source": [
    "scz_genes_in_ppi = list()\n",
    "\n",
    "for n in list(gppi.nodes):\n",
    "    if n in scz_genes:\n",
    "        scz_genes_in_ppi.append(n)"
   ]
  },
  {
   "cell_type": "code",
   "execution_count": 8,
   "id": "27abef26-d610-4fbd-95f2-5c130151be13",
   "metadata": {
    "tags": []
   },
   "outputs": [
    {
     "data": {
      "text/plain": [
       "846"
      ]
     },
     "execution_count": 8,
     "metadata": {},
     "output_type": "execute_result"
    }
   ],
   "source": [
    "len(scz_genes_in_ppi)"
   ]
  },
  {
   "cell_type": "code",
   "execution_count": 9,
   "id": "b89b4b62-07b9-47be-bcff-82077a96a6c6",
   "metadata": {
    "tags": []
   },
   "outputs": [],
   "source": [
    "lcc = localization.get_lcc(gppi, scz_genes_in_ppi)"
   ]
  },
  {
   "cell_type": "code",
   "execution_count": 10,
   "id": "fbaac586-d059-4c77-8274-e28df33bb8e8",
   "metadata": {
    "tags": []
   },
   "outputs": [
    {
     "data": {
      "text/plain": [
       "683"
      ]
     },
     "execution_count": 10,
     "metadata": {},
     "output_type": "execute_result"
    }
   ],
   "source": [
    "len(lcc)"
   ]
  },
  {
   "cell_type": "markdown",
   "id": "bb4181b8-83f7-4a15-bcf7-9b0c7b2b663e",
   "metadata": {},
   "source": [
    "Understand the statistical significance of this disease module"
   ]
  },
  {
   "cell_type": "code",
   "execution_count": 11,
   "id": "11131f0f-897f-4d89-8224-cb1948912621",
   "metadata": {
    "tags": []
   },
   "outputs": [],
   "source": [
    "sig_dict = localization.get_random_comparison(gppi, scz_genes_in_ppi, 1000)"
   ]
  },
  {
   "cell_type": "code",
   "execution_count": 12,
   "id": "4cccb5e9-4a7b-4c28-b02c-820e1749e6c8",
   "metadata": {
    "tags": []
   },
   "outputs": [
    {
     "name": "stdout",
     "output_type": "stream",
     "text": [
      "Mean:  412.271\n",
      "Std:  35.06456272363881\n",
      "z-score:  7.720871985022296\n",
      "p-value:  1.1546319456101628e-14\n"
     ]
    }
   ],
   "source": [
    "random_lcc = sig_dict['LCC_list']\n",
    "\n",
    "print('Mean: ',sig_dict['mean'])\n",
    "\n",
    "print('Std: ',sig_dict['std'])\n",
    "\n",
    "print('z-score: ',sig_dict['z_score'])\n",
    "\n",
    "print('p-value: ',sig_dict['p_value'])"
   ]
  },
  {
   "cell_type": "code",
   "execution_count": 13,
   "id": "4992f9c2-a108-4ad3-a985-18cb799f0bd4",
   "metadata": {
    "tags": []
   },
   "outputs": [
    {
     "data": {
      "image/png": "[encoded data removed]",
      "text/plain": [
       "<Figure size 640x480 with 1 Axes>"
      ]
     },
     "metadata": {},
     "output_type": "display_data"
    }
   ],
   "source": [
    "sns.histplot(data=random_lcc,\n",
    "             bins=10)\n",
    "\n",
    "plt.axvline(len(lcc), color='r')\n",
    "\n",
    "plt.xlim(300, 700)\n",
    "plt.tight_layout()\n",
    "plt.show()"
   ]
  },
  {
   "cell_type": "markdown",
   "id": "d9cedb5b-7dcb-4252-b085-075de0f96237",
   "metadata": {},
   "source": [
    "Understand the statistical significance of this disease module PRESERVING THE DEGREE DISTRIBUTION"
   ]
  },
  {
   "cell_type": "code",
   "execution_count": 14,
   "id": "442dd376-0883-453d-b3cc-9f977ef12e23",
   "metadata": {
    "tags": []
   },
   "outputs": [],
   "source": [
    "sig_dp_dict = localization.get_random_comparison(gppi, scz_genes_in_ppi, 1000, degree_preserving=True)"
   ]
  },
  {
   "cell_type": "code",
   "execution_count": 15,
   "id": "6b32786a-70a0-4fbf-bf5d-66b6632734c7",
   "metadata": {
    "tags": []
   },
   "outputs": [
    {
     "name": "stdout",
     "output_type": "stream",
     "text": [
      "Mean:  618.675\n",
      "Std:  11.530627693235093\n",
      "z-score:  5.578620844530337\n",
      "p-value:  2.42433024766342e-08\n"
     ]
    }
   ],
   "source": [
    "random_dp_lcc = sig_dp_dict['LCC_list']\n",
    "\n",
    "print('Mean: ',sig_dp_dict['mean'])\n",
    "\n",
    "print('Std: ',sig_dp_dict['std'])\n",
    "\n",
    "print('z-score: ',sig_dp_dict['z_score'])\n",
    "\n",
    "print('p-value: ',sig_dp_dict['p_value'])"
   ]
  },
  {
   "cell_type": "code",
   "execution_count": 16,
   "id": "fceefbb2-d372-44e5-9f6c-fa1bf65940a9",
   "metadata": {
    "tags": []
   },
   "outputs": [
    {
     "data": {
      "image/png": "[encoded data removed]",
      "text/plain": [
       "<Figure size 640x480 with 1 Axes>"
      ]
     },
     "metadata": {},
     "output_type": "display_data"
    }
   ],
   "source": [
    "sns.histplot(data=random_dp_lcc,\n",
    "             bins=10)\n",
    "\n",
    "plt.axvline(len(lcc), color='r')\n",
    "\n",
    "plt.xlim(550, 700)\n",
    "plt.tight_layout()\n",
    "plt.show()"
   ]
  },
  {
   "cell_type": "markdown",
   "id": "d198b827-76ec-4652-8687-58e76ca9f17f",
   "metadata": {},
   "source": [
    "\n"
   ]
  },
  {
   "cell_type": "markdown",
   "id": "36e1da0a-47a5-4d25-9d81-7539d52240bf",
   "metadata": {},
   "source": [
    "\n"
   ]
  },
  {
   "cell_type": "markdown",
   "id": "156635a9-91ff-4b7a-a7d2-debf04d97149",
   "metadata": {},
   "source": [
    "\n"
   ]
  },
  {
   "cell_type": "markdown",
   "id": "b19b96a0-c9d4-4ebb-8788-f221cdbe3037",
   "metadata": {
    "tags": []
   },
   "source": [
    "# 2. Disease separation\n",
    "\n",
    "- To study for example the overlap between diseases and understand better comorbidities"
   ]
  },
  {
   "cell_type": "code",
   "execution_count": null,
   "id": "610150f4-0eca-4efb-972a-6167a9e459be",
   "metadata": {},
   "outputs": [],
   "source": [
    "scz = cleaned_dga[cleaned_dga.diseaseName == 'Schizophrenia']"
   ]
  },
  {
   "cell_type": "markdown",
   "id": "991dbef7-8bf3-418d-b4b1-119cb1e11beb",
   "metadata": {},
   "source": [
    "\n"
   ]
  },
  {
   "cell_type": "markdown",
   "id": "d0f18531-c880-450c-8a49-8ab2499dfd8a",
   "metadata": {},
   "source": [
    "\n"
   ]
  },
  {
   "cell_type": "markdown",
   "id": "441e5df2-d04f-4865-81ad-1fb5675f3e04",
   "metadata": {},
   "source": [
    "# 3. Disease - drug proximity\n",
    "\n",
    "- To suggest new drug repurposing opportunities"
   ]
  },
  {
   "cell_type": "markdown",
   "id": "e5080923-ba70-423a-aac8-322b4bbde90c",
   "metadata": {},
   "source": [
    "\n"
   ]
  },
  {
   "cell_type": "markdown",
   "id": "e72de577-c6c6-4669-9e41-8e75c1088eeb",
   "metadata": {},
   "source": [
    "\n"
   ]
  },
  {
   "cell_type": "markdown",
   "id": "8c36f0fa-4374-43ea-b2c8-5c53a307445b",
   "metadata": {},
   "source": [
    "\n"
   ]
  },
  {
   "cell_type": "markdown",
   "id": "86f6fe6e-cc55-4fa4-b0e9-b00e51f2d550",
   "metadata": {},
   "source": [
    "## EXERCISE\n",
    "\n",
    "Calculate the LCC, and visualize the modules for the following diseases:\n",
    "\n",
    "- Autistic Disorder\n",
    "- Obesity\n",
    "- Hyperlipidemia\n",
    "- Rheumatoid Arthritis"
   ]
  },
  {
   "cell_type": "code",
   "execution_count": null,
   "id": "c05837de-14ec-4c1e-a264-6de383657cd5",
   "metadata": {},
   "outputs": [],
   "source": []
  }
 ],
 "metadata": {
  "kernelspec": {
   "display_name": "Python 3 (ipykernel)",
   "language": "python",
   "name": "python3"
  },
  "language_info": {
   "codemirror_mode": {
    "name": "ipython",
    "version": 3
   },
   "file_extension": ".py",
   "mimetype": "text/x-python",
   "name": "python",
   "nbconvert_exporter": "python",
   "pygments_lexer": "ipython3",
   "version": "3.11.5"
  }
 },
 "nbformat": 4,
 "nbformat_minor": 5
}
