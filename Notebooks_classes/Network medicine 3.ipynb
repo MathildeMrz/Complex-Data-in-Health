{
 "cells": [
  {
   "cell_type": "markdown",
   "id": "4e22f3cc-9aad-42c1-a50e-a95e0536e4d1",
   "metadata": {},
   "source": [
    "<div style=\"width: 100%; clear: both;\">\n",
    "<div style=\"float: left; width: 50%;\">\n",
    "<img src=\"https://www.upm.es/sfs/Rectorado/Gabinete%20del%20Rector/Logos/UPM/Logotipo%20con%20Leyenda/LOGOTIPO%20leyenda%20color%20PNG.png\", align=\"left\">\n",
    "</div>\n",
    "<div style=\"float: right; width: 50%;\">\n",
    "<p style=\"margin: 0; padding-top: 100px; text-align:right;\">November 2023</p>\n",
    "<p style=\"margin: 0; text-align:right;\">Complex data in health</p>\n",
    "<p style=\"margin: 0; text-align:right; padding-button: 100px;\">Lucía Prieto Santamaría</p>\n",
    "</div>\n",
    "</div>\n",
    "<div style=\"width:100%;\">&nbsp;</div>"
   ]
  },
  {
   "cell_type": "code",
   "execution_count": 3,
   "id": "bcc85c10-3b1c-456f-bcc4-85b308ffc0da",
   "metadata": {
    "tags": [],
    "ExecuteTime": {
     "end_time": "2023-11-28T16:43:09.716864100Z",
     "start_time": "2023-11-28T16:43:03.428159700Z"
    }
   },
   "outputs": [],
   "source": [
    "import numpy as np\n",
    "import pandas as pd\n",
    "\n",
    "import networkx as nx\n",
    "\n",
    "import seaborn as sns\n",
    "import matplotlib.pylab as plt\n",
    "\n",
    "import localization\n",
    "import separation\n",
    "import proximity"
   ]
  },
  {
   "cell_type": "markdown",
   "id": "4e0b96dd-0175-4d88-b600-7f1f0c50e2db",
   "metadata": {},
   "source": [
    "# 1. Disease modules"
   ]
  },
  {
   "cell_type": "markdown",
   "id": "44e6fb43-6345-4b37-a3c1-1f530e254e6e",
   "metadata": {},
   "source": [
    "- Disease gene associations"
   ]
  },
  {
   "cell_type": "code",
   "execution_count": 6,
   "id": "eb95e9f2-056f-40a5-b822-dae0f121b656",
   "metadata": {
    "tags": [],
    "ExecuteTime": {
     "end_time": "2023-11-28T16:47:15.667266900Z",
     "start_time": "2023-11-28T16:47:14.978381200Z"
    }
   },
   "outputs": [
    {
     "name": "stdout",
     "output_type": "stream",
     "text": [
      "aaaaaa :  44439\n"
     ]
    }
   ],
   "source": [
    "dga = pd.read_csv(\"../datasets/disease_gene.tsv\", sep='\\t')\n",
    "\n",
    "dga = dga[dga.diseaseType == 'disease'][['geneSymbol', 'diseaseName']].drop_duplicates()\n",
    "\n",
    "dga['diseaseName'] = dga['diseaseName'].str.lower()\n",
    "\n",
    "num_genes = (dga.groupby('diseaseName')\n",
    "             .agg('count')\n",
    "             .sort_values(by='geneSymbol')\n",
    "             .reset_index()\n",
    "             .rename(columns={'geneSymbol':'count_genes'}))\n",
    "\n",
    "filtered_dga = dga.merge(num_genes, \n",
    "                         on='diseaseName', \n",
    "                         how='inner')\n",
    "\n",
    "print(\"aaaaaa : \", len(filtered_dga[filtered_dga.count_genes>10]))\n",
    "cleaned_dga = filtered_dga[filtered_dga.count_genes>10][['geneSymbol', 'diseaseName']].drop_duplicates().reset_index(drop=True)"
   ]
  },
  {
   "cell_type": "markdown",
   "id": "603f22ce-6611-4c76-a581-323ba6447f4d",
   "metadata": {},
   "source": [
    "- PPIs"
   ]
  },
  {
   "cell_type": "code",
   "execution_count": null,
   "id": "2ff6971b-a792-410a-9ada-c83307b6913a",
   "metadata": {
    "tags": [],
    "ExecuteTime": {
     "start_time": "2023-11-28T16:43:10.370574900Z"
    }
   },
   "outputs": [],
   "source": [
    "ppi = pd.read_csv('data/ppi.csv')\n",
    "\n",
    "ppi = (ppi[['Symbol_A','Symbol_B']]\n",
    "       .drop_duplicates()\n",
    "       .dropna())\n",
    "\n",
    "gppi = nx.from_pandas_edgelist(ppi, 'Symbol_A', 'Symbol_B')\n",
    "\n",
    "# Removing self loops\n",
    "sl = nx.selfloop_edges(gppi)\n",
    "gppi.remove_edges_from(sl)"
   ]
  },
  {
   "cell_type": "code",
   "execution_count": null,
   "id": "32ae7881-cf41-447c-a41f-ff31cd871518",
   "metadata": {
    "tags": [],
    "ExecuteTime": {
     "start_time": "2023-11-28T16:43:10.376291600Z"
    }
   },
   "outputs": [],
   "source": [
    "def get_disease_module_info(dis_name, gda, ppi):\n",
    "    \n",
    "    d = gda[gda.diseaseName == dis_name]\n",
    "    genes = list(d.geneSymbol.unique())\n",
    "    genes_in_ppi = [n for n in gppi.nodes if n in genes]\n",
    "    genes_in_lcc = localization.get_lcc(ppi, genes_in_ppi)\n",
    "    \n",
    "    print('Number of disease genes: ',len(genes))\n",
    "    print('Number of disease genes in the PPI: ',len(genes_in_ppi))\n",
    "    print('Number of disease genes in the LCC: ',len(genes_in_lcc))\n",
    "    \n",
    "    return genes, genes_in_ppi, genes_in_lcc"
   ]
  },
  {
   "cell_type": "code",
   "execution_count": null,
   "id": "0e3ffb97-b0da-4c4b-8cfa-45ca1c9b964f",
   "metadata": {
    "tags": [],
    "ExecuteTime": {
     "end_time": "2023-11-28T16:43:10.388531700Z",
     "start_time": "2023-11-28T16:43:10.384047200Z"
    }
   },
   "outputs": [],
   "source": [
    "def plot_disease_module_info(ppi, genes):\n",
    "    \n",
    "    sig_dict = localization.get_random_comparison(ppi, genes[1], 1000)\n",
    "    random_lcc = sig_dict['LCC_list']\n",
    "    print('Full randomization')\n",
    "    print('Mean: ',sig_dict['mean'])\n",
    "    print('Std: ',sig_dict['std'])\n",
    "    print('z-score: ',sig_dict['z_score'])\n",
    "    print('p-value: ',sig_dict['p_value'])\n",
    "\n",
    "    sig_dp_dict = localization.get_random_comparison(ppi, genes[1], 1000, degree_preserving=True)\n",
    "    random_dp_lcc = sig_dp_dict['LCC_list']\n",
    "    print('\\nDegree preserving randomization')\n",
    "    print('Mean: ',sig_dp_dict['mean'])\n",
    "    print('Std: ',sig_dp_dict['std'])\n",
    "    print('z-score: ',sig_dp_dict['z_score'])\n",
    "    print('p-value: ',sig_dp_dict['p_value'], '\\n')\n",
    "    \n",
    "    fig, axs = plt.subplots(1, 2, figsize=(7,3))\n",
    "\n",
    "    sns.histplot(data=random_lcc,\n",
    "                 bins=10, \n",
    "                 ax=axs[0])\n",
    "    axs[0].axvline(len(genes[2]), color='r')\n",
    "    axs[0].set_xlabel('LCC value')\n",
    "    axs[0].set_ylabel('Count iterations')\n",
    "    axs[0].set_title('Full randomization')\n",
    "\n",
    "    sns.histplot(data=random_dp_lcc,\n",
    "                 bins=10, \n",
    "                 ax=axs[1])\n",
    "    axs[1].axvline(len(genes[2]), color='r')\n",
    "    axs[1].set_xlabel('LCC value')\n",
    "    axs[1].set_ylabel('Count iterations')\n",
    "    axs[1].set_title('Degree preserving randomization')\n",
    "\n",
    "    plt.tight_layout()\n",
    "    plt.show()"
   ]
  },
  {
   "cell_type": "markdown",
   "id": "21c9b573-7435-451c-8e55-a9ba4f99ef69",
   "metadata": {},
   "source": [
    "- Schizophrenia"
   ]
  },
  {
   "cell_type": "code",
   "execution_count": null,
   "id": "9826e7ec-ce42-4b19-a8e2-c5fbd8a022d8",
   "metadata": {
    "tags": [],
    "ExecuteTime": {
     "start_time": "2023-11-28T16:43:10.393157500Z"
    }
   },
   "outputs": [],
   "source": [
    "scz = get_disease_module_info('schizophrenia', cleaned_dga, gppi)"
   ]
  },
  {
   "cell_type": "code",
   "execution_count": null,
   "id": "eb68d3f9-c3e5-48b2-b84a-ad37fd673752",
   "metadata": {
    "tags": [],
    "ExecuteTime": {
     "start_time": "2023-11-28T16:43:10.402424200Z"
    }
   },
   "outputs": [],
   "source": [
    "plot_disease_module_info(gppi, scz)"
   ]
  },
  {
   "cell_type": "markdown",
   "id": "0ac6654e-6809-419e-af1c-a3a1a681fed8",
   "metadata": {},
   "source": [
    "- Autistic Disorder"
   ]
  },
  {
   "cell_type": "code",
   "execution_count": null,
   "id": "c05837de-14ec-4c1e-a264-6de383657cd5",
   "metadata": {
    "tags": [],
    "ExecuteTime": {
     "start_time": "2023-11-28T16:43:10.411575200Z"
    }
   },
   "outputs": [],
   "source": [
    "ad = get_disease_module_info('autistic disorder', cleaned_dga, gppi)"
   ]
  },
  {
   "cell_type": "code",
   "execution_count": null,
   "id": "5ea46983-8b11-4e3a-9a60-1f93833626a4",
   "metadata": {
    "tags": [],
    "ExecuteTime": {
     "end_time": "2023-11-28T16:43:10.545530Z",
     "start_time": "2023-11-28T16:43:10.417203100Z"
    }
   },
   "outputs": [],
   "source": [
    "plot_disease_module_info(gppi, ad)"
   ]
  },
  {
   "cell_type": "markdown",
   "id": "7717f41a-1b6a-4320-b451-97575a3f8162",
   "metadata": {},
   "source": [
    "- Obesity"
   ]
  },
  {
   "cell_type": "code",
   "execution_count": null,
   "id": "bc2368fe-273e-4c9c-9c11-06f059d45837",
   "metadata": {
    "tags": [],
    "ExecuteTime": {
     "start_time": "2023-11-28T16:43:10.426109300Z"
    }
   },
   "outputs": [],
   "source": [
    "ob = get_disease_module_info('obesity', cleaned_dga, gppi)"
   ]
  },
  {
   "cell_type": "code",
   "execution_count": null,
   "id": "698a32b0-e7c6-4db4-a294-198ddb621408",
   "metadata": {
    "tags": [],
    "ExecuteTime": {
     "start_time": "2023-11-28T16:43:10.433476600Z"
    }
   },
   "outputs": [],
   "source": [
    "plot_disease_module_info(gppi, ob)"
   ]
  },
  {
   "cell_type": "markdown",
   "id": "a15f94f0-5fe0-4cd6-b2eb-3c09da2744b9",
   "metadata": {},
   "source": [
    "- Hyperlipidemia"
   ]
  },
  {
   "cell_type": "code",
   "execution_count": null,
   "id": "c3fd75b3-5a54-41ff-8b5a-608250a2a742",
   "metadata": {
    "tags": [],
    "ExecuteTime": {
     "start_time": "2023-11-28T16:43:10.436843300Z"
    }
   },
   "outputs": [],
   "source": [
    "hl = get_disease_module_info('hyperlipidemia', cleaned_dga, gppi)"
   ]
  },
  {
   "cell_type": "code",
   "execution_count": null,
   "id": "2f2a93a7-ea45-4c7c-a448-5311810f2995",
   "metadata": {
    "tags": [],
    "ExecuteTime": {
     "start_time": "2023-11-28T16:43:10.436843300Z"
    }
   },
   "outputs": [],
   "source": [
    "plot_disease_module_info(gppi, hl)"
   ]
  },
  {
   "cell_type": "markdown",
   "id": "7cf8f429-4829-4bb2-88fa-9fb427cf03c9",
   "metadata": {},
   "source": [
    "- Rheumatoid Arthritis"
   ]
  },
  {
   "cell_type": "code",
   "execution_count": null,
   "id": "393ebe5d-9f0b-4b1d-98ee-83803ab43f28",
   "metadata": {
    "tags": [],
    "ExecuteTime": {
     "start_time": "2023-11-28T16:43:10.450855400Z"
    }
   },
   "outputs": [],
   "source": [
    "ra = get_disease_module_info('rheumatoid arthritis', cleaned_dga, gppi)"
   ]
  },
  {
   "cell_type": "code",
   "execution_count": null,
   "id": "200a1b8f-77f0-4907-8720-78d62e412aae",
   "metadata": {
    "tags": [],
    "ExecuteTime": {
     "start_time": "2023-11-28T16:43:10.450855400Z"
    }
   },
   "outputs": [],
   "source": [
    "plot_disease_module_info(gppi, ra)"
   ]
  },
  {
   "cell_type": "markdown",
   "id": "e476e8ec-5b17-4031-96ca-77912b3ea214",
   "metadata": {},
   "source": [
    "\n"
   ]
  },
  {
   "cell_type": "markdown",
   "id": "0d894899-b002-4501-96fd-98642b77acc2",
   "metadata": {},
   "source": [
    "\n"
   ]
  },
  {
   "cell_type": "markdown",
   "id": "09c4c412-d123-4996-8222-b056f7c421f2",
   "metadata": {},
   "source": [
    "\n"
   ]
  },
  {
   "cell_type": "markdown",
   "id": "90d1b09b-e243-4851-8b44-b3a7c64e977d",
   "metadata": {
    "tags": []
   },
   "source": [
    "# 2. Disease separation\n",
    "\n",
    "- To study for example the overlap between diseases and understand better comorbidities"
   ]
  },
  {
   "cell_type": "markdown",
   "id": "9c17ae0a-e8f1-409c-8890-7b074a0c4f65",
   "metadata": {},
   "source": [
    "Let's compare Schizophrenia and Autistic Disorder"
   ]
  },
  {
   "cell_type": "code",
   "execution_count": null,
   "id": "bb5e3caf-550d-4bb3-9bdb-eeada684da00",
   "metadata": {
    "ExecuteTime": {
     "start_time": "2023-11-28T16:43:10.466492800Z"
    }
   },
   "outputs": [],
   "source": [
    "sab = separation.get_separation(gppi, scz[2], ad[2])"
   ]
  },
  {
   "cell_type": "code",
   "execution_count": null,
   "id": "f767a06c-63bc-454c-9c9d-883f4881744b",
   "metadata": {
    "tags": [],
    "ExecuteTime": {
     "start_time": "2023-11-28T16:43:10.466492800Z"
    }
   },
   "outputs": [],
   "source": [
    "print(sab)"
   ]
  },
  {
   "cell_type": "markdown",
   "id": "c51b44d2-e86e-446d-8def-c7c8cbf9e415",
   "metadata": {},
   "source": [
    "\n"
   ]
  },
  {
   "cell_type": "markdown",
   "id": "d066f44d-ae22-477f-bd58-3a616caeba4c",
   "metadata": {},
   "source": [
    "Let's now compare Schizophrenia with Obesity"
   ]
  },
  {
   "cell_type": "code",
   "execution_count": null,
   "id": "59450dad-f52c-4b97-ac3a-fc46a63189e2",
   "metadata": {
    "ExecuteTime": {
     "start_time": "2023-11-28T16:43:10.466492800Z"
    }
   },
   "outputs": [],
   "source": [
    "sab = separation.get_separation(gppi, set(scz[2]), set(ob[2]))"
   ]
  },
  {
   "cell_type": "code",
   "execution_count": null,
   "id": "b5d44ad1-1037-45c3-bc8a-87850bb91b75",
   "metadata": {
    "tags": [],
    "ExecuteTime": {
     "start_time": "2023-11-28T16:43:10.477616700Z"
    }
   },
   "outputs": [],
   "source": [
    "print(sab)"
   ]
  },
  {
   "cell_type": "markdown",
   "id": "c4aaffc3-cdd1-42e6-b1b0-d6f924d3e7e9",
   "metadata": {},
   "source": [
    "\n"
   ]
  },
  {
   "cell_type": "markdown",
   "id": "13a20a9f-8422-4213-ba54-0c4b78c022c6",
   "metadata": {},
   "source": [
    "Let's now compare Schizophrenia with Hyperlipidemia"
   ]
  },
  {
   "cell_type": "code",
   "execution_count": null,
   "id": "50f4dbd4-65df-4ac1-9105-5451323c21c1",
   "metadata": {
    "ExecuteTime": {
     "start_time": "2023-11-28T16:43:10.482127900Z"
    }
   },
   "outputs": [],
   "source": [
    "sab = separation.get_separation(gppi, set(scz[2]), set(hl[2]))"
   ]
  },
  {
   "cell_type": "code",
   "execution_count": null,
   "id": "0639f089-e5b5-4a29-acc0-31bb0c6d6645",
   "metadata": {
    "tags": [],
    "ExecuteTime": {
     "start_time": "2023-11-28T16:43:10.482127900Z"
    }
   },
   "outputs": [],
   "source": [
    "print(sab)"
   ]
  },
  {
   "cell_type": "markdown",
   "id": "d950e1a4-43fb-4068-a55d-a3be52f27436",
   "metadata": {},
   "source": [
    "\n"
   ]
  },
  {
   "cell_type": "markdown",
   "id": "cda1b0bf-acd0-49c1-8a8f-381ca3dc2d9d",
   "metadata": {},
   "source": [
    "Let's now compare Schizophrenia with Rheumatoid Arthritis"
   ]
  },
  {
   "cell_type": "code",
   "execution_count": null,
   "id": "1428ade4-d853-4fdd-abde-2c5deb9eb42b",
   "metadata": {
    "tags": [],
    "ExecuteTime": {
     "start_time": "2023-11-28T16:43:10.482127900Z"
    }
   },
   "outputs": [],
   "source": [
    "sab = separation.get_separation(gppi, set(scz[2]), set(ra[2]))"
   ]
  },
  {
   "cell_type": "code",
   "execution_count": null,
   "id": "3aadffde-032f-4125-b104-4d5875b207b2",
   "metadata": {
    "tags": [],
    "ExecuteTime": {
     "start_time": "2023-11-28T16:43:10.491793900Z"
    }
   },
   "outputs": [],
   "source": [
    "print(sab)"
   ]
  },
  {
   "cell_type": "markdown",
   "id": "7bb65388-60e4-4521-b365-e22c657f43d4",
   "metadata": {},
   "source": [
    "\n"
   ]
  },
  {
   "cell_type": "markdown",
   "id": "b88b081a-c37e-4659-9163-bfacde859203",
   "metadata": {},
   "source": [
    "\n"
   ]
  },
  {
   "cell_type": "markdown",
   "id": "6308658c-2f7b-415e-940a-23358104d6be",
   "metadata": {},
   "source": [
    "\n"
   ]
  },
  {
   "cell_type": "markdown",
   "id": "1788dac2-c3b0-4b98-870a-8c9b3e38c9f5",
   "metadata": {},
   "source": [
    "\n"
   ]
  },
  {
   "cell_type": "markdown",
   "id": "43816916-f1bb-4340-8d17-ae1aab129097",
   "metadata": {},
   "source": [
    "\n"
   ]
  },
  {
   "cell_type": "markdown",
   "id": "494bcf5a-db9e-482b-b7c9-e245c9c6d4b3",
   "metadata": {},
   "source": [
    "# 3. Disease - drug proximity\n",
    "\n",
    "- To suggest new drug repurposing opportunities"
   ]
  },
  {
   "cell_type": "code",
   "execution_count": null,
   "id": "843df1d7-0a47-413d-9d17-03f657cdbadb",
   "metadata": {
    "tags": [],
    "ExecuteTime": {
     "start_time": "2023-11-28T16:43:10.495376100Z"
    }
   },
   "outputs": [],
   "source": [
    "dt = pd.read_csv('data/drug_target.csv')\n",
    "\n",
    "cleaned_dt = dt[dt.organism=='Humans'][['Gene_Target', \n",
    "                                        'Name']].drop_duplicates()"
   ]
  },
  {
   "cell_type": "code",
   "execution_count": null,
   "id": "f7ca44df-9492-4c6a-9777-66a53ac418dd",
   "metadata": {
    "tags": [],
    "ExecuteTime": {
     "start_time": "2023-11-28T16:43:10.497901400Z"
    }
   },
   "outputs": [],
   "source": [
    "def plot_proximity(G, genes, targets, sim):\n",
    "    \n",
    "    prox_dict = proximity.get_proximity(G, genes, targets, sim)\n",
    "    \n",
    "    prox_obs = prox_dict['proximity']\n",
    "    random_prox = prox_dict['proximity_list']\n",
    "\n",
    "    print('Proximity observed: ',prox_obs)\n",
    "    print('\\nMean: ',prox_dict['mean'])\n",
    "    print('Std: ',prox_dict['std'])\n",
    "    print('z-score: ',prox_dict['z_score'])\n",
    "    print('p-value: ',prox_dict['p_value'])\n",
    "\n",
    "\n",
    "    fig, axs = plt.subplots()\n",
    "    sns.histplot(data=random_prox,\n",
    "                 bins=10)\n",
    "    plt.axvline(prox_obs, color='r')\n",
    "    plt.xlabel('Proximity value')\n",
    "    plt.ylabel('Count iterations')\n",
    "    plt.tight_layout()\n",
    "    plt.show()"
   ]
  },
  {
   "cell_type": "code",
   "execution_count": null,
   "id": "e47759bc-de20-425b-864d-e1f2d22c00fd",
   "metadata": {
    "tags": [],
    "ExecuteTime": {
     "start_time": "2023-11-28T16:43:10.503104100Z"
    }
   },
   "outputs": [],
   "source": [
    "cleaned_dt[cleaned_dt.Gene_Target.isin(scz[2])][['Name']].drop_duplicates()"
   ]
  },
  {
   "cell_type": "code",
   "execution_count": null,
   "id": "bd73e32a-70dd-4520-9b61-476f17da8815",
   "metadata": {
    "tags": [],
    "ExecuteTime": {
     "start_time": "2023-11-28T16:43:10.503104100Z"
    }
   },
   "outputs": [],
   "source": [
    "le_t = cleaned_dt[cleaned_dt.Name == 'Lepirudin'].Gene_Target.unique()\n",
    "print('Lepirudin')\n",
    "print('\\tTargets: ',le_t)\n",
    "\n",
    "plot_proximity(gppi, \n",
    "               set(scz[2]), \n",
    "               set(le_t), \n",
    "               1000)"
   ]
  },
  {
   "cell_type": "code",
   "execution_count": null,
   "id": "7ae323c8-92e6-4e4b-8e2c-7d93f3f11cad",
   "metadata": {
    "ExecuteTime": {
     "start_time": "2023-11-28T16:43:10.512086200Z"
    }
   },
   "outputs": [],
   "source": [
    "et_t = cleaned_dt[cleaned_dt.Name == 'Etanercept'].Gene_Target.unique()\n",
    "print('Etanercept')\n",
    "print('\\tTargets: ', et_t)\n",
    "\n",
    "plot_proximity(gppi, \n",
    "               set(scz[2]), \n",
    "               set(et_t), \n",
    "               1000)"
   ]
  }
 ],
 "metadata": {
  "kernelspec": {
   "display_name": "Python 3 (ipykernel)",
   "language": "python",
   "name": "python3"
  },
  "language_info": {
   "codemirror_mode": {
    "name": "ipython",
    "version": 3
   },
   "file_extension": ".py",
   "mimetype": "text/x-python",
   "name": "python",
   "nbconvert_exporter": "python",
   "pygments_lexer": "ipython3",
   "version": "3.11.5"
  }
 },
 "nbformat": 4,
 "nbformat_minor": 5
}
